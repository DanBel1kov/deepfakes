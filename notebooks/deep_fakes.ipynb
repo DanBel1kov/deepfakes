{
 "cells": [
  {
   "cell_type": "code",
   "execution_count": 33,
   "outputs": [
    {
     "data": {
      "text/plain": "<torch._C.Generator at 0x12be753b0>"
     },
     "execution_count": 33,
     "metadata": {},
     "output_type": "execute_result"
    }
   ],
   "source": [
    "import optuna\n",
    "import torch\n",
    "import torchvision\n",
    "import numpy as np\n",
    "from torchvision import transforms, datasets\n",
    "\n",
    "torch.manual_seed(69) #gives 61,5 % "
   ],
   "metadata": {
    "collapsed": false,
    "ExecuteTime": {
     "end_time": "2024-01-01T19:22:13.276443Z",
     "start_time": "2024-01-01T19:22:13.258771Z"
    }
   },
   "id": "d9a8a57feedf3e95"
  },
  {
   "cell_type": "code",
   "execution_count": 34,
   "outputs": [],
   "source": [
    "import torch\n",
    "import os\n",
    "from tqdm import tqdm_notebook #for progress bar\n",
    "import torchvision\n",
    "from torch import nn\n",
    "from torch.utils.data import Dataset\n",
    "import matplotlib.pyplot as plt\n",
    "from torchvision.io import read_image\n",
    "from torch.utils.data import DataLoader\n",
    "import torch.optim as optim\n",
    "from torchvision import datasets, models, transforms\n",
    "from torch.optim import lr_scheduler\n",
    "\n",
    "\n",
    "import optuna\n",
    "from optuna.trial import TrialState"
   ],
   "metadata": {
    "collapsed": false,
    "ExecuteTime": {
     "end_time": "2024-01-01T19:22:13.847235Z",
     "start_time": "2024-01-01T19:22:13.842821Z"
    }
   },
   "id": "45358b270ca8d9e3"
  },
  {
   "cell_type": "code",
   "execution_count": 35,
   "outputs": [],
   "source": [
    "import torch.nn as nn\n",
    "import torch.nn.functional as F\n"
   ],
   "metadata": {
    "collapsed": false,
    "ExecuteTime": {
     "end_time": "2024-01-01T19:22:14.547802Z",
     "start_time": "2024-01-01T19:22:14.545278Z"
    }
   },
   "id": "a0ff0c4d752f823"
  },
  {
   "cell_type": "code",
   "execution_count": 126,
   "outputs": [
    {
     "name": "stdout",
     "output_type": "stream",
     "text": [
      "Using device: mps\n"
     ]
    }
   ],
   "source": [
    "# device = torch.device(\"cuda\") if torch.cuda.is_available() else torch.device(\"cpu\")\n",
    "# # device = torch.device(\"cpu\")\n",
    "# device\n",
    "device = \"mps\" if torch.backends.mps.is_available() else \"cpu\"\n",
    "print(f\"Using device: {device}\")"
   ],
   "metadata": {
    "collapsed": false,
    "ExecuteTime": {
     "end_time": "2024-01-01T20:58:10.382752Z",
     "start_time": "2024-01-01T20:58:10.368601Z"
    }
   },
   "id": "ca8e5c815fcf3adc"
  },
  {
   "cell_type": "code",
   "execution_count": 36,
   "outputs": [],
   "source": [],
   "metadata": {
    "collapsed": false,
    "ExecuteTime": {
     "end_time": "2024-01-01T19:22:15.547250Z",
     "start_time": "2024-01-01T19:22:15.544192Z"
    }
   },
   "id": "3b731fec3f2e4fd9"
  },
  {
   "cell_type": "code",
   "execution_count": 119,
   "id": "initial_id",
   "metadata": {
    "collapsed": true,
    "ExecuteTime": {
     "end_time": "2024-01-01T20:54:57.999051Z",
     "start_time": "2024-01-01T20:54:57.967582Z"
    }
   },
   "outputs": [],
   "source": [
    "training_folder = './data/training'\n",
    "transform = transforms.Compose(\n",
    "    \n",
    "    [\n",
    "     transforms.RandomHorizontalFlip(),\n",
    "     transforms.ColorJitter(brightness=0.05, contrast= 0.05, saturation= 0.05, hue = 0.05),\n",
    "     transforms.ToTensor()\n",
    "     #transforms.Normalize((0.5, 0.5, 0.5), (0.5, 0.5, 0.5))\n",
    "    ] \n",
    "    \n",
    ")\n",
    "\n",
    "transform2 = transforms.Compose(\n",
    "\n",
    "    [\n",
    "     transforms.ToTensor(),\n",
    "     #transforms.Normalize((0.5, 0.5, 0.5), (0.25, 0.25, 0.25))\n",
    "    ]\n",
    ")\n",
    "\n",
    "transformImageNet = transforms.Compose([\n",
    "    transforms.Resize((224, 224)),\n",
    "    transforms.ToTensor(),\n",
    "    transforms.Normalize(mean=[0.485, 0.456, 0.406], std=[0.229, 0.224, 0.225])\n",
    "])\n",
    "\n",
    "transformGoogle = transforms.Compose([\n",
    "    transforms.Resize((299, 299)),  # InceptionV3 input size\n",
    "    transforms.ToTensor(),\n",
    "    transforms.Normalize(mean=[0.485, 0.456, 0.406], std=[0.229, 0.224, 0.225]),\n",
    "])\n",
    "\n",
    "trainset = datasets.ImageFolder(root=training_folder, transform=transformGoogle)\n",
    "trainloader = torch.utils.data.DataLoader(trainset, batch_size = 16, shuffle = True)\n"
   ]
  },
  {
   "cell_type": "code",
   "execution_count": 120,
   "outputs": [],
   "source": [
    "test_folder = './data/validation'\n",
    "testset = datasets.ImageFolder(root=test_folder, transform=transformGoogle)\n",
    "testloader = torch.utils.data.DataLoader(testset, batch_size = 16, shuffle = True)"
   ],
   "metadata": {
    "collapsed": false,
    "ExecuteTime": {
     "end_time": "2024-01-01T20:54:58.550008Z",
     "start_time": "2024-01-01T20:54:58.544414Z"
    }
   },
   "id": "d6c6f9b41289c0b2"
  },
  {
   "cell_type": "code",
   "execution_count": 6,
   "outputs": [
    {
     "name": "stdout",
     "output_type": "stream",
     "text": [
      "Batch Shape: tensor([[[[ 0.7933,  0.8961,  0.9303,  ...,  0.9988,  0.9817,  0.8961],\n",
      "          [ 0.8104,  0.8618,  0.8618,  ...,  0.9303,  0.9303,  0.9474],\n",
      "          [ 0.8447,  0.8447,  0.8789,  ...,  0.8961,  0.9646,  0.9303],\n",
      "          ...,\n",
      "          [-1.1589, -1.3815, -1.1760,  ..., -2.0152, -1.9980, -2.0152],\n",
      "          [-1.3644, -1.4672, -1.1760,  ..., -2.0494, -2.0323, -1.9467],\n",
      "          [-1.7412, -1.6213, -1.2445,  ..., -2.0665, -2.0665, -2.0152]],\n",
      "\n",
      "         [[ 1.7458,  1.7983,  1.7983,  ...,  2.0434,  2.0259,  1.9384],\n",
      "          [ 1.7283,  1.7633,  1.7633,  ...,  1.9734,  1.9734,  1.9909],\n",
      "          [ 1.7458,  1.7458,  1.7808,  ...,  1.9384,  2.0084,  1.9734],\n",
      "          ...,\n",
      "          [-0.7927, -0.9853, -0.8452,  ..., -1.6856, -1.5455, -1.4930],\n",
      "          [-0.9153, -1.0553, -0.8277,  ..., -1.7031, -1.7206, -1.3704],\n",
      "          [-1.1078, -1.1429, -0.8627,  ..., -1.5455, -1.6506, -1.4230]],\n",
      "\n",
      "         [[ 1.4722,  1.5420,  1.5594,  ...,  1.9254,  1.9080,  1.8208],\n",
      "          [ 1.4548,  1.5071,  1.5071,  ...,  1.8557,  1.8557,  1.8731],\n",
      "          [ 1.4897,  1.4897,  1.5245,  ...,  1.8208,  1.8905,  1.8557],\n",
      "          ...,\n",
      "          [-0.9156, -1.0376, -0.9678,  ..., -1.0898, -1.0027, -1.0201],\n",
      "          [-1.0201, -1.1073, -0.9678,  ..., -1.0898, -1.1073, -0.9156],\n",
      "          [-1.1944, -1.1421, -0.9678,  ..., -0.9853, -1.0550, -0.9504]]],\n",
      "\n",
      "\n",
      "        [[[-0.5253, -0.4911, -0.4397,  ..., -0.3027, -0.2513, -0.2171],\n",
      "          [-0.5424, -0.4739, -0.4054,  ..., -0.3027, -0.2856, -0.2513],\n",
      "          [-0.4911, -0.4397, -0.4054,  ..., -0.2856, -0.2856, -0.2513],\n",
      "          ...,\n",
      "          [-2.0665, -2.0665, -2.0494,  ..., -1.7583, -1.7754, -1.7583],\n",
      "          [-2.0665, -2.0665, -2.0665,  ..., -1.7754, -1.7583, -1.7583],\n",
      "          [-2.0837, -2.0837, -2.0665,  ..., -1.7583, -1.7412, -1.7240]],\n",
      "\n",
      "         [[-1.0203, -0.9853, -0.9503,  ..., -0.8452, -0.7927, -0.7577],\n",
      "          [-1.0553, -0.9853, -0.9328,  ..., -0.8452, -0.8277, -0.7927],\n",
      "          [-1.0028, -0.9678, -0.9153,  ..., -0.8277, -0.8277, -0.8102],\n",
      "          ...,\n",
      "          [-1.9832, -2.0007, -1.9832,  ..., -1.6155, -1.6331, -1.6155],\n",
      "          [-1.9832, -2.0007, -2.0007,  ..., -1.6331, -1.6155, -1.5980],\n",
      "          [-2.0007, -2.0182, -2.0007,  ..., -1.5805, -1.5630, -1.5455]],\n",
      "\n",
      "         [[-1.1247, -1.1073, -1.0550,  ..., -0.9504, -0.9156, -0.8981],\n",
      "          [-1.1596, -1.0898, -1.0376,  ..., -0.9504, -0.9504, -0.9330],\n",
      "          [-1.1073, -1.0550, -1.0201,  ..., -0.9330, -0.9504, -0.9504],\n",
      "          ...,\n",
      "          [-1.6302, -1.6302, -1.6127,  ..., -1.0550, -1.0724, -1.0550],\n",
      "          [-1.6127, -1.6302, -1.6476,  ..., -1.0724, -1.0550, -1.0376],\n",
      "          [-1.5953, -1.6476, -1.6650,  ..., -1.0201, -0.9853, -0.9853]]],\n",
      "\n",
      "\n",
      "        [[[ 2.1290,  2.1290,  2.1462,  ...,  2.2489,  2.2489,  2.2489],\n",
      "          [ 2.1462,  2.1633,  2.1633,  ...,  2.2489,  2.2489,  2.2489],\n",
      "          [ 2.1633,  2.1804,  2.1975,  ...,  2.2489,  2.2489,  2.2489],\n",
      "          ...,\n",
      "          [ 2.0434,  2.0605,  2.0777,  ..., -0.0629, -0.1657, -0.2513],\n",
      "          [ 2.0434,  2.0605,  2.0605,  ..., -0.4739, -0.4568, -0.4568],\n",
      "          [ 2.0263,  2.0434,  2.0434,  ..., -0.4397, -0.4568, -0.4226]],\n",
      "\n",
      "         [[ 2.3761,  2.3761,  2.3936,  ...,  2.4286,  2.4286,  2.4286],\n",
      "          [ 2.3936,  2.4111,  2.4111,  ...,  2.4286,  2.4286,  2.4286],\n",
      "          [ 2.4111,  2.4286,  2.4286,  ...,  2.4286,  2.4286,  2.4286],\n",
      "          ...,\n",
      "          [ 2.2535,  2.2710,  2.2710,  ...,  0.3102,  0.1877,  0.1001],\n",
      "          [ 2.2535,  2.2710,  2.2710,  ..., -0.5301, -0.5126, -0.5301],\n",
      "          [ 2.2360,  2.2535,  2.2535,  ..., -0.5476, -0.5826, -0.5476]],\n",
      "\n",
      "         [[ 2.5703,  2.5703,  2.5877,  ...,  2.6400,  2.6400,  2.6400],\n",
      "          [ 2.5877,  2.6051,  2.6051,  ...,  2.6400,  2.6400,  2.6400],\n",
      "          [ 2.6051,  2.6226,  2.6226,  ...,  2.6400,  2.6400,  2.6400],\n",
      "          ...,\n",
      "          [ 2.4483,  2.4657,  2.4831,  ...,  0.5834,  0.4962,  0.4614],\n",
      "          [ 2.4483,  2.4657,  2.4657,  ...,  0.4614,  0.5311,  0.5659],\n",
      "          [ 2.4308,  2.4483,  2.4483,  ...,  0.4788,  0.5136,  0.5485]]],\n",
      "\n",
      "\n",
      "        ...,\n",
      "\n",
      "\n",
      "        [[[-1.5357, -1.5699, -1.5699,  ..., -1.5357, -1.5185, -1.5528],\n",
      "          [-1.5528, -1.5699, -1.5870,  ..., -1.5185, -1.5185, -1.5357],\n",
      "          [-1.5528, -1.5870, -1.5870,  ..., -1.5014, -1.5357, -1.5185],\n",
      "          ...,\n",
      "          [-1.7583, -1.7583, -1.7583,  ..., -1.5699, -1.5870, -1.5870],\n",
      "          [-1.7583, -1.7583, -1.7754,  ..., -1.5870, -1.5699, -1.5870],\n",
      "          [-1.7412, -1.7240, -1.7412,  ..., -1.6384, -1.5699, -1.5870]],\n",
      "\n",
      "         [[-1.5980, -1.5980, -1.5805,  ..., -1.5105, -1.4930, -1.5280],\n",
      "          [-1.6155, -1.5980, -1.5980,  ..., -1.5105, -1.4930, -1.5105],\n",
      "          [-1.6155, -1.5980, -1.5980,  ..., -1.5105, -1.5105, -1.4930],\n",
      "          ...,\n",
      "          [-1.8782, -1.8782, -1.8782,  ..., -1.5980, -1.5805, -1.5980],\n",
      "          [-1.8782, -1.8782, -1.8957,  ..., -1.6506, -1.6155, -1.6155],\n",
      "          [-1.8606, -1.8431, -1.8606,  ..., -1.7031, -1.6506, -1.6155]],\n",
      "\n",
      "         [[-1.3513, -1.3687, -1.3513,  ..., -1.2990, -1.2467, -1.2816],\n",
      "          [-1.3687, -1.3687, -1.3687,  ..., -1.2816, -1.2467, -1.2641],\n",
      "          [-1.3687, -1.3687, -1.3687,  ..., -1.2641, -1.2641, -1.2467],\n",
      "          ...,\n",
      "          [-1.6476, -1.6476, -1.6476,  ..., -1.3687, -1.3687, -1.3513],\n",
      "          [-1.6476, -1.6476, -1.6650,  ..., -1.4036, -1.3861, -1.3687],\n",
      "          [-1.6302, -1.6127, -1.6302,  ..., -1.4559, -1.4036, -1.3861]]],\n",
      "\n",
      "\n",
      "        [[[-1.6213, -1.6042, -1.6042,  ..., -1.3130, -1.3130, -1.3130],\n",
      "          [-1.6042, -1.6042, -1.6042,  ..., -1.3130, -1.2959, -1.2959],\n",
      "          [-1.6042, -1.6042, -1.6042,  ..., -1.3130, -1.2959, -1.2959],\n",
      "          ...,\n",
      "          [-1.3987, -1.4500, -1.4329,  ..., -0.4568, -0.4397, -0.4568],\n",
      "          [-1.4500, -1.4672, -1.4843,  ..., -0.3712, -0.4397, -0.4568],\n",
      "          [-1.3815, -1.4500, -1.4672,  ..., -0.1486, -0.4226, -0.4568]],\n",
      "\n",
      "         [[-1.3704, -1.3529, -1.3529,  ..., -1.1429, -1.1429, -1.1429],\n",
      "          [-1.3529, -1.3529, -1.3529,  ..., -1.1429, -1.1253, -1.1253],\n",
      "          [-1.3529, -1.3529, -1.3529,  ..., -1.1429, -1.1253, -1.1253],\n",
      "          ...,\n",
      "          [-1.2129, -1.2304, -1.2304,  ..., -0.3200, -0.3200, -0.3375],\n",
      "          [-1.2129, -1.2479, -1.2304,  ..., -0.2500, -0.3200, -0.3375],\n",
      "          [-1.1954, -1.2479, -1.2479,  ...,  0.0126, -0.3025, -0.3375]],\n",
      "\n",
      "         [[-1.0550, -1.0376, -1.0376,  ..., -0.8981, -0.8981, -0.8981],\n",
      "          [-1.0376, -1.0376, -1.0376,  ..., -0.8981, -0.8807, -0.8807],\n",
      "          [-1.0376, -1.0376, -1.0376,  ..., -0.8981, -0.8807, -0.8807],\n",
      "          ...,\n",
      "          [-0.9156, -0.9156, -0.9156,  ..., -0.1138, -0.1138, -0.1138],\n",
      "          [-0.9156, -0.9330, -0.9156,  ..., -0.0790, -0.0790, -0.1138],\n",
      "          [-0.8807, -0.9156, -0.8981,  ...,  0.0082, -0.0964, -0.0964]]],\n",
      "\n",
      "\n",
      "        [[[-0.9534, -0.9534, -0.9705,  ...,  0.2282,  0.2111,  0.1426],\n",
      "          [-0.9192, -0.9020, -0.9020,  ...,  0.2967,  0.2453,  0.1768],\n",
      "          [-0.9192, -0.9192, -0.8849,  ...,  0.2967,  0.3138,  0.2624],\n",
      "          ...,\n",
      "          [ 1.8893,  1.8722,  1.8893,  ...,  1.8722,  1.8550,  1.8722],\n",
      "          [ 1.8893,  1.8722,  1.8893,  ...,  1.8893,  1.8722,  1.8379],\n",
      "          [ 1.8722,  1.8893,  1.8722,  ...,  1.8722,  1.8722,  1.8722]],\n",
      "\n",
      "         [[-0.5476, -0.5476, -0.5826,  ...,  0.5728,  0.5553,  0.5028],\n",
      "          [-0.4951, -0.5126, -0.5476,  ...,  0.6429,  0.5903,  0.5378],\n",
      "          [-0.4776, -0.5301, -0.5301,  ...,  0.6429,  0.6604,  0.6078],\n",
      "          ...,\n",
      "          [ 2.1835,  2.1660,  2.1835,  ...,  2.1660,  2.1485,  2.1660],\n",
      "          [ 2.1835,  2.1660,  2.1835,  ...,  2.1835,  2.1660,  2.1310],\n",
      "          [ 2.1660,  2.1835,  2.1660,  ...,  2.1660,  2.1660,  2.1660]],\n",
      "\n",
      "         [[-0.1835, -0.2010, -0.2358,  ...,  1.0714,  1.0539,  1.0017],\n",
      "          [-0.1312, -0.1661, -0.1835,  ...,  1.1411,  1.0888,  1.0365],\n",
      "          [-0.1312, -0.1835, -0.1661,  ...,  1.1411,  1.1585,  1.1062],\n",
      "          ...,\n",
      "          [ 2.5006,  2.4831,  2.5006,  ...,  2.4831,  2.4657,  2.4831],\n",
      "          [ 2.5006,  2.4831,  2.5006,  ...,  2.5006,  2.4831,  2.4483],\n",
      "          [ 2.4831,  2.5006,  2.4831,  ...,  2.4831,  2.4831,  2.4831]]]])\n",
      "Labels Shape: tensor([0, 0, 0, 1, 0, 1, 1, 1])\n"
     ]
    }
   ],
   "source": [
    "for images, labels in trainloader:\n",
    "    print(\"Batch Shape:\", images)\n",
    "    print(\"Labels Shape:\", labels)\n",
    "    break"
   ],
   "metadata": {
    "collapsed": false,
    "ExecuteTime": {
     "end_time": "2024-01-01T18:41:23.686285Z",
     "start_time": "2024-01-01T18:41:23.494370Z"
    }
   },
   "id": "9db5b24dc5e1da37"
  },
  {
   "cell_type": "code",
   "execution_count": 47,
   "outputs": [],
   "source": [
    "class ConvNet(nn.Module):\n",
    "    def __init__(self):\n",
    "        super(ConvNet, self).__init__()\n",
    "        \n",
    "        self.conv1 = nn.Conv2d(in_channels=3, out_channels = 32, kernel_size = 5, stride = 3, padding=2)\n",
    "        self.pool = nn.MaxPool2d(kernel_size=2, stride=2)\n",
    "        self.bn1 = nn.BatchNorm2d(32)\n",
    "        self.conv2 = nn.Conv2d(in_channels= 32 , out_channels = 64, kernel_size = 5, stride = 3, padding=2) \n",
    "        self.bn2 = nn.BatchNorm2d(64)\n",
    "        # self.dropout = nn.Dropout(p=0.2)\n",
    "        self.fc1 = nn.Linear(17 * 17 * 64, 1000)\n",
    "        self.fc2 = nn.Linear(1000, 1)\n",
    "        #self.fc3 = nn.Linear(30, 1)\n",
    "        #self.fc2_2 = nn.Linear(1000, 1)\n",
    "    \n",
    "    \n",
    "    def forward(self, x):\n",
    "        x = self.bn1(self.pool(F.relu(self.conv1(x))))\n",
    "        x = self.bn2(self.pool(F.relu(self.conv2(x))))\n",
    "        #print(x.shape)\n",
    "        x = x.view(-1, 17 * 17 * 64)\n",
    "        # x = self.dropout(x)\n",
    "        x = F.relu(self.fc1(x))\n",
    "        #x = F.relu(self.fc2(x))\n",
    "        x = F.sigmoid(self.fc2(x))\n",
    "        return x\n",
    "        \n",
    "        "
   ],
   "metadata": {
    "collapsed": false,
    "ExecuteTime": {
     "end_time": "2023-12-31T18:25:09.145801Z",
     "start_time": "2023-12-31T18:25:09.139969Z"
    }
   },
   "id": "56e9ab8a7f9e69c2"
  },
  {
   "cell_type": "code",
   "execution_count": 48,
   "outputs": [
    {
     "ename": "RuntimeError",
     "evalue": "shape '[-1, 18496]' is invalid for input of size 131072",
     "output_type": "error",
     "traceback": [
      "\u001B[0;31m---------------------------------------------------------------------------\u001B[0m",
      "\u001B[0;31mRuntimeError\u001B[0m                              Traceback (most recent call last)",
      "Cell \u001B[0;32mIn[48], line 7\u001B[0m\n\u001B[1;32m      3\u001B[0m net \u001B[38;5;241m=\u001B[39m ConvNet()\u001B[38;5;241m.\u001B[39mto(device)\n\u001B[1;32m      5\u001B[0m batch \u001B[38;5;241m=\u001B[39m \u001B[38;5;28mnext\u001B[39m(\u001B[38;5;28miter\u001B[39m(trainloader))\n\u001B[0;32m----> 7\u001B[0m net\u001B[38;5;241m.\u001B[39mforward(torch\u001B[38;5;241m.\u001B[39mFloatTensor(batch[\u001B[38;5;241m0\u001B[39m])\u001B[38;5;241m.\u001B[39mto(device))\n",
      "Cell \u001B[0;32mIn[47], line 21\u001B[0m, in \u001B[0;36mConvNet.forward\u001B[0;34m(self, x)\u001B[0m\n\u001B[1;32m     19\u001B[0m x \u001B[38;5;241m=\u001B[39m \u001B[38;5;28mself\u001B[39m\u001B[38;5;241m.\u001B[39mbn2(\u001B[38;5;28mself\u001B[39m\u001B[38;5;241m.\u001B[39mpool(F\u001B[38;5;241m.\u001B[39mrelu(\u001B[38;5;28mself\u001B[39m\u001B[38;5;241m.\u001B[39mconv2(x))))\n\u001B[1;32m     20\u001B[0m \u001B[38;5;66;03m#print(x.shape)\u001B[39;00m\n\u001B[0;32m---> 21\u001B[0m x \u001B[38;5;241m=\u001B[39m x\u001B[38;5;241m.\u001B[39mview(\u001B[38;5;241m-\u001B[39m\u001B[38;5;241m1\u001B[39m, \u001B[38;5;241m17\u001B[39m \u001B[38;5;241m*\u001B[39m \u001B[38;5;241m17\u001B[39m \u001B[38;5;241m*\u001B[39m \u001B[38;5;241m64\u001B[39m)\n\u001B[1;32m     22\u001B[0m \u001B[38;5;66;03m# x = self.dropout(x)\u001B[39;00m\n\u001B[1;32m     23\u001B[0m x \u001B[38;5;241m=\u001B[39m F\u001B[38;5;241m.\u001B[39mrelu(\u001B[38;5;28mself\u001B[39m\u001B[38;5;241m.\u001B[39mfc1(x))\n",
      "\u001B[0;31mRuntimeError\u001B[0m: shape '[-1, 18496]' is invalid for input of size 131072"
     ]
    }
   ],
   "source": [
    "\n",
    "#torch.manual_seed(1) #gives 59\n",
    "batch = []\n",
    "net = ConvNet().to(device)\n",
    "\n",
    "batch = next(iter(trainloader))\n",
    "\n",
    "net.forward(torch.FloatTensor(batch[0]).to(device))"
   ],
   "metadata": {
    "collapsed": false,
    "ExecuteTime": {
     "end_time": "2023-12-31T18:25:09.730150Z",
     "start_time": "2023-12-31T18:25:09.142782Z"
    }
   },
   "id": "da9e5234e07f28e5"
  },
  {
   "cell_type": "code",
   "execution_count": null,
   "outputs": [],
   "source": [],
   "metadata": {
    "collapsed": false,
    "ExecuteTime": {
     "start_time": "2023-12-31T18:25:09.728215Z"
    }
   },
   "id": "c48bfdd16d49b9aa"
  },
  {
   "cell_type": "code",
   "execution_count": null,
   "outputs": [],
   "source": [
    "loss_fn = torch.nn.BCEWithLogitsLoss()\n",
    "\n",
    "learning_rate = 0.00010246617213508516 #for adam\n",
    "#learning_rate = 1.71903735673968e-05 #for RMS\n",
    "#learning_rate = 1e-4\n",
    "optimizer = torch.optim.Adam(net.parameters(), lr = learning_rate)\n",
    "#optimizer = torch.optim.RMSprop(net.parameters(), lr = learning_rate)\n",
    "losses = []"
   ],
   "metadata": {
    "collapsed": false,
    "ExecuteTime": {
     "end_time": "2023-12-31T18:25:09.731123Z",
     "start_time": "2023-12-31T18:25:09.730821Z"
    }
   },
   "id": "66ef781dbc8ee9b4"
  },
  {
   "cell_type": "code",
   "execution_count": null,
   "outputs": [],
   "source": [
    "fig = plt.figure(figsize=(10, 7))\n",
    "ax = fig.add_subplot(10, 1, 1)\n",
    "\n",
    "for epoch in tqdm_notebook(range(10)):\n",
    "\n",
    "    running_loss = 0.0\n",
    "    for i, batch in enumerate(tqdm_notebook(trainloader)):\n",
    "        \n",
    "        X_batch, y_batch = batch\n",
    "        y_batch = y_batch.float()\n",
    "\n",
    "        optimizer.zero_grad()\n",
    "\n",
    "        y_pred = net(X_batch)\n",
    " \n",
    "        loss = loss_fn(y_pred, y_batch.unsqueeze(1))\n",
    "\n",
    "        loss.backward()\n",
    "        optimizer.step()\n",
    "\n",
    "        running_loss += loss.item()\n",
    "\n",
    "        if i % 50 == 49:\n",
    "            print('[%d, %5d] loss: %.3f' %\n",
    "                  (epoch + 1, i + 1, running_loss / 50))\n",
    "            losses.append(running_loss / 50)\n",
    "            running_loss = 0.0\n",
    "ax.plot(np.arange(len(losses)), losses)\n",
    "plt.show()"
   ],
   "metadata": {
    "collapsed": false,
    "ExecuteTime": {
     "start_time": "2023-12-31T18:25:09.733159Z"
    }
   },
   "id": "1e4d532f64f03ed8"
  },
  {
   "cell_type": "code",
   "execution_count": null,
   "outputs": [],
   "source": [
    "class_correct = [0,0]\n",
    "class_total = [0,0]\n",
    "classes = ['Real', 'Fake']\n",
    "\n",
    "\n",
    "with torch.no_grad():\n",
    "    for data in testloader:\n",
    "        images, labels = data\n",
    "        if len(labels) == 2:\n",
    "            continue\n",
    "        y_pred = net(images)\n",
    "\n",
    "        predicted = torch.squeeze(torch.round(y_pred))\n",
    "\n",
    "        c = predicted.cpu().detach() == labels\n",
    "        \n",
    "        for i in range(3):\n",
    "            label = labels[i]\n",
    "            class_correct[label] += c[i].item()\n",
    "            class_total[label] += 1\n",
    "\n",
    "    for i in range(2):\n",
    "        print(\"Accuracy of %5s : %2d %%\" % (classes[i], 100 * class_correct[i] / class_total[i]))\n",
    "    print(class_total)\n",
    "    print(class_correct)\n",
    "    print('Total Accuracy is: ', sum(class_correct) / sum(class_total))"
   ],
   "metadata": {
    "collapsed": false,
    "ExecuteTime": {
     "end_time": "2023-12-31T18:25:09.783421Z",
     "start_time": "2023-12-31T18:25:09.734918Z"
    }
   },
   "id": "96da3da04cb8fc3d"
  },
  {
   "cell_type": "code",
   "execution_count": null,
   "outputs": [],
   "source": [
    "class OptunaModel(nn.Module):\n",
    "    def __init__(self, input_size, output_size, num_conv_layers, trial):\n",
    "\n",
    "\n",
    "        \n",
    "        super(OptunaModel, self).__init__()\n",
    "        \n",
    "        in_channels = input_size\n",
    "        self.conv_layers = nn.ModuleList()\n",
    "        for i in range(num_conv_layers):\n",
    "            num_neurons = trial.suggest_int(f'num_neurons_layer_{_}', 128 // (1.5 ** i ), 512 // (1.5 ** i ))\n",
    "            self.conv_layers.append(nn.Conv2d(input_size, num_neurons, kernel_size = 5, stride = 3, padding = 2 ))\n",
    "            self.conv_layers.append(nn.ReLU())\n",
    "            self.conv_layers.append(nn.MaxPool2d(kernel_size=2, stride=2))\n",
    "            \n",
    "            in_channels = num_neurons\n",
    "        \n",
    "        self.flatten = nn.Flatten()\n",
    "        self.l_layers = nn.ModuleList()\n",
    "        \n",
    "        self.output_layer = nn.Linear(in_channels, output_size)\n",
    "        self.sigmoid = nn.Sigmoid()\n",
    "        \n",
    "        \n",
    "        for i in range(2):\n",
    "            num_neurons = trial.suggest_int(f'num_neurons_l_{i}', 64 // (1.5 ** i ), 512 // (1.5 ** i ))\n",
    "            self.l_layers.append(nn.Linear(input_size, num_neurons))\n",
    "            self.l_layers.append(nn.ReLU())\n",
    "            in_channels = num_neurons\n",
    "        \n",
    "        self.output_layer = nn.Linear(in_channels, output_size)\n",
    "        \n",
    "        \n",
    "    def forward(self, x):\n",
    "        for layer in self.layers:\n",
    "            x = layer[x]\n",
    "        x = self.flatten(x)\n",
    "        \n",
    "        for layer in self.l_layers:\n",
    "            x = layer[x]\n",
    "            \n",
    "        x = self.output_layer(x)\n",
    "        x = self.sigmoid(x)\n",
    "        return x\n",
    "\n",
    "def objective(trial):\n",
    "    \n",
    "    input_size = 3\n",
    "    output_size = 1\n",
    "    num_conv_layers = trial.suggest_int('num_layers', 2, 5)\n",
    "    model = OptunaModel(input_size, output_size, num_conv_layers, trial).to(device)\n",
    "\n",
    "    loss_fn = torch.nn.BCEWithLogitsLoss()\n",
    "    optimizer = optim.Adam(model.parameters(), lr= 1e-4)\n",
    "    \n",
    "\n",
    "    for epoch in tqdm_notebook(range(10)):\n",
    "\n",
    "        running_loss = 0.0\n",
    "        for i, batch in enumerate(tqdm_notebook(trainloader)):\n",
    "        \n",
    "            X_batch, y_batch = batch\n",
    "            y_batch = y_batch.float()\n",
    "        \n",
    "            optimizer.zero_grad()\n",
    "        \n",
    "            y_pred = net(X_batch)\n",
    "        \n",
    "            loss = loss_fn(y_pred, y_batch.unsqueeze(1))\n",
    "        \n",
    "            loss.backward()\n",
    "            optimizer.step()\n",
    "        \n",
    "            running_loss += loss.item()\n",
    "        \n",
    "            if i % 50 == 49:\n",
    "                print('[%d, %5d] loss: %.3f' %\n",
    "                      (epoch + 1, i + 1, running_loss / 50))\n",
    "                losses.append(running_loss)\n",
    "                running_loss = 0.0\n",
    "\n",
    "    class_correct = [0,0]\n",
    "    class_total = [0,0]\n",
    "    classes = ['Real', 'Fake']\n",
    "\n",
    "    with torch.no_grad():\n",
    "        for data in testloader:\n",
    "            images, labels = data\n",
    "            if len(labels) == 2:\n",
    "                continue\n",
    "            y_pred = net(images)\n",
    "\n",
    "            predicted = torch.squeeze(torch.round(y_pred))\n",
    "\n",
    "            c = predicted.cpu().detach() == labels\n",
    "\n",
    "            for i in range(3):\n",
    "                label = labels[i]\n",
    "                class_correct[label] += c[i].item()\n",
    "                class_total[label] += 1\n",
    "    \n",
    "    return sum(class_correct) / sum(class_total)\n",
    "            \n"
   ],
   "metadata": {
    "collapsed": false,
    "ExecuteTime": {
     "start_time": "2023-12-31T18:25:09.737704Z"
    }
   },
   "id": "7eb2303dd94db887"
  },
  {
   "cell_type": "code",
   "execution_count": null,
   "outputs": [],
   "source": [
    "study = optuna.create_study(direction='maximize')\n",
    "study.optimize(objective, n_trials = 2)\n",
    "\n",
    "best_trial = study.best_trial\n",
    "best_trial.value"
   ],
   "metadata": {
    "collapsed": false,
    "ExecuteTime": {
     "start_time": "2023-12-31T18:25:09.739754Z"
    }
   },
   "id": "bb0a8c140dc51d91"
  },
  {
   "cell_type": "code",
   "execution_count": null,
   "outputs": [],
   "source": [
    "best_trial.params"
   ],
   "metadata": {
    "collapsed": false,
    "ExecuteTime": {
     "start_time": "2023-12-31T18:25:09.742425Z"
    }
   },
   "id": "b8facbab07db587e"
  },
  {
   "cell_type": "code",
   "execution_count": null,
   "outputs": [],
   "source": [],
   "metadata": {
    "collapsed": false,
    "ExecuteTime": {
     "start_time": "2023-12-31T18:25:09.744763Z"
    }
   },
   "id": "701b06fe5272b6f8"
  },
  {
   "cell_type": "code",
   "execution_count": null,
   "outputs": [],
   "source": [
    "AlexnetTunned = models.alexnet(pretrained = True)\n"
   ],
   "metadata": {
    "collapsed": false,
    "ExecuteTime": {
     "start_time": "2023-12-31T18:25:09.747070Z"
    }
   },
   "id": "2dd0ff36c86a42dc"
  },
  {
   "cell_type": "code",
   "execution_count": null,
   "outputs": [],
   "source": [
    "AlexnetTunned"
   ],
   "metadata": {
    "collapsed": false,
    "ExecuteTime": {
     "start_time": "2023-12-31T18:25:09.747953Z"
    }
   },
   "id": "59d4b431a033cb1"
  },
  {
   "cell_type": "code",
   "execution_count": 75,
   "outputs": [],
   "source": [
    "def train_model(model, loss_fn, optimizer, scheduler, num_epochs = 10):\n",
    "\n",
    "    fig = plt.figure(figsize=(10, 7))\n",
    "    ax = fig.add_subplot(10, 1, 1)\n",
    "\n",
    "    best_model_wts = model.state_dict()\n",
    "    best_acc = 0.0\n",
    "    acc = []\n",
    "\n",
    "\n",
    "\n",
    "    for epoch in tqdm_notebook(range(num_epochs)):\n",
    "\n",
    "\n",
    "        scheduler.step()\n",
    "        running_loss = 0.0\n",
    "\n",
    "        for i, batch in enumerate(tqdm_notebook(trainloader)):\n",
    "\n",
    "            X_batch, y_batch = batch\n",
    "            y_batch = y_batch.float()\n",
    "            X_batch, y_batch = X_batch.to(device), y_batch.to(device)\n",
    "\n",
    "            optimizer.zero_grad()\n",
    "\n",
    "            y_pred = model(X_batch)\n",
    "\n",
    "            loss = loss_fn(y_pred, y_batch.unsqueeze(1))\n",
    "\n",
    "            loss.backward()\n",
    "            optimizer.step()\n",
    "\n",
    "            running_loss += loss.item()\n",
    "\n",
    "            if i % 25 == 24:\n",
    "                print('[%d, %5d] loss: %.3f' %\n",
    "                      (epoch + 1, i + 1, running_loss / 50))\n",
    "                #losses.append(running_loss / 50)\n",
    "                running_loss = 0.0\n",
    "\n",
    "\n",
    "        class_correct = [0,0]\n",
    "        class_total = [0,0]\n",
    "        classes = ['Real', 'Fake']\n",
    "\n",
    "        with torch.no_grad():\n",
    "            for data in testloader:\n",
    "                images, labels = data\n",
    "                images = images.to(device)\n",
    "\n",
    "                y_pred = model(images)\n",
    "\n",
    "                predicted = torch.squeeze(torch.round(y_pred))\n",
    "\n",
    "                c = predicted.cpu().detach() == labels\n",
    "\n",
    "                for i in range(len(labels)):\n",
    "                    label = labels[i]\n",
    "                    class_correct[label] += c[i].item()\n",
    "                    class_total[label] += 1\n",
    "\n",
    "        # for i in range(2):\n",
    "        #     print(\"Accuracy of %5s : %2d %%\" % (classes[i], 100 * class_correct[i] / class_total[i]))\n",
    "        # print(class_total)\n",
    "        # print(class_correct)\n",
    "        print('Total Accuracy is: ', sum(class_correct) / sum(class_total))\n",
    "        accuracy = sum(class_correct) / sum(class_total)\n",
    "        acc.append( sum(class_correct) / sum(class_total))\n",
    "        if accuracy > best_acc:\n",
    "            best_acc = accuracy\n",
    "            best_model_wts = model.state_dict()\n",
    "\n",
    "    model.load_state_dict(best_model_wts)\n",
    "    ax.plot(np.arange(len(acc)), acc)\n",
    "    plt.show()\n",
    "    return model, acc\n",
    "\n",
    "\n"
   ],
   "metadata": {
    "collapsed": false,
    "ExecuteTime": {
     "end_time": "2024-01-01T19:44:23.433710Z",
     "start_time": "2024-01-01T19:44:23.427549Z"
    }
   },
   "id": "1f40c4731c95739e"
  },
  {
   "cell_type": "code",
   "execution_count": null,
   "outputs": [],
   "source": [
    "num_features = 9126\n",
    "AlexnetTunned.classifier = nn.Linear(num_features, 2)\n",
    "\n",
    "if torch.cuda.is_available:\n",
    "    AlexnetTunned = AlexnetTunned.to(device)\n",
    "    \n",
    "loss_fn2 = torch.nn.BCEWithLogitsLoss()\n",
    "\n",
    "optimizer2 = optim.Adam(AlexnetTunned.parameters(), lr = 1e-4)\n",
    "\n",
    "exp_lr_scheduler = lr_scheduler.StepLR(optimizer2, step_size=7, gamma=0.1)"
   ],
   "metadata": {
    "collapsed": false,
    "ExecuteTime": {
     "start_time": "2023-12-31T18:25:09.751957Z"
    }
   },
   "id": "9359fbd27a863db3"
  },
  {
   "cell_type": "code",
   "execution_count": null,
   "outputs": [],
   "source": [
    "train_model(AlexnetTunned, loss_fn2, optimizer2, exp_lr_scheduler, num_epochs = 15)\n"
   ],
   "metadata": {
    "collapsed": false,
    "ExecuteTime": {
     "start_time": "2023-12-31T18:25:09.753605Z"
    }
   },
   "id": "46a1d9760c93ee90"
  },
  {
   "cell_type": "code",
   "execution_count": 42,
   "outputs": [
    {
     "name": "stderr",
     "output_type": "stream",
     "text": [
      "/opt/anaconda3/envs/DeepFakesProject/lib/python3.11/site-packages/torchvision/models/_utils.py:223: UserWarning: Arguments other than a weight enum or `None` for 'weights' are deprecated since 0.13 and may be removed in the future. The current behavior is equivalent to passing `weights=VGG16_Weights.IMAGENET1K_V1`. You can also use `weights=VGG16_Weights.DEFAULT` to get the most up-to-date weights.\n",
      "  warnings.warn(msg)\n"
     ]
    },
    {
     "name": "stdout",
     "output_type": "stream",
     "text": [
      "VGG(\n",
      "  (features): Sequential(\n",
      "    (0): Conv2d(3, 64, kernel_size=(3, 3), stride=(1, 1), padding=(1, 1))\n",
      "    (1): ReLU(inplace=True)\n",
      "    (2): Conv2d(64, 64, kernel_size=(3, 3), stride=(1, 1), padding=(1, 1))\n",
      "    (3): ReLU(inplace=True)\n",
      "    (4): MaxPool2d(kernel_size=2, stride=2, padding=0, dilation=1, ceil_mode=False)\n",
      "    (5): Conv2d(64, 128, kernel_size=(3, 3), stride=(1, 1), padding=(1, 1))\n",
      "    (6): ReLU(inplace=True)\n",
      "    (7): Conv2d(128, 128, kernel_size=(3, 3), stride=(1, 1), padding=(1, 1))\n",
      "    (8): ReLU(inplace=True)\n",
      "    (9): MaxPool2d(kernel_size=2, stride=2, padding=0, dilation=1, ceil_mode=False)\n",
      "    (10): Conv2d(128, 256, kernel_size=(3, 3), stride=(1, 1), padding=(1, 1))\n",
      "    (11): ReLU(inplace=True)\n",
      "    (12): Conv2d(256, 256, kernel_size=(3, 3), stride=(1, 1), padding=(1, 1))\n",
      "    (13): ReLU(inplace=True)\n",
      "    (14): Conv2d(256, 256, kernel_size=(3, 3), stride=(1, 1), padding=(1, 1))\n",
      "    (15): ReLU(inplace=True)\n",
      "    (16): MaxPool2d(kernel_size=2, stride=2, padding=0, dilation=1, ceil_mode=False)\n",
      "    (17): Conv2d(256, 512, kernel_size=(3, 3), stride=(1, 1), padding=(1, 1))\n",
      "    (18): ReLU(inplace=True)\n",
      "    (19): Conv2d(512, 512, kernel_size=(3, 3), stride=(1, 1), padding=(1, 1))\n",
      "    (20): ReLU(inplace=True)\n",
      "    (21): Conv2d(512, 512, kernel_size=(3, 3), stride=(1, 1), padding=(1, 1))\n",
      "    (22): ReLU(inplace=True)\n",
      "    (23): MaxPool2d(kernel_size=2, stride=2, padding=0, dilation=1, ceil_mode=False)\n",
      "    (24): Conv2d(512, 512, kernel_size=(3, 3), stride=(1, 1), padding=(1, 1))\n",
      "    (25): ReLU(inplace=True)\n",
      "    (26): Conv2d(512, 512, kernel_size=(3, 3), stride=(1, 1), padding=(1, 1))\n",
      "    (27): ReLU(inplace=True)\n",
      "    (28): Conv2d(512, 512, kernel_size=(3, 3), stride=(1, 1), padding=(1, 1))\n",
      "    (29): ReLU(inplace=True)\n",
      "    (30): MaxPool2d(kernel_size=2, stride=2, padding=0, dilation=1, ceil_mode=False)\n",
      "  )\n",
      "  (avgpool): AdaptiveAvgPool2d(output_size=(7, 7))\n",
      "  (classifier): Sequential(\n",
      "    (0): Linear(in_features=25088, out_features=4096, bias=True)\n",
      "    (1): ReLU(inplace=True)\n",
      "    (2): Dropout(p=0.5, inplace=False)\n",
      "    (3): Linear(in_features=4096, out_features=4096, bias=True)\n",
      "    (4): ReLU(inplace=True)\n",
      "    (5): Dropout(p=0.5, inplace=False)\n",
      "    (6): Sequential(\n",
      "      (0): Linear(in_features=4096, out_features=1, bias=True)\n",
      "      (1): Sigmoid()\n",
      "    )\n",
      "  )\n",
      ")\n"
     ]
    }
   ],
   "source": [
    "model_vgg = models.vgg16(pretrained = True)\n",
    "\n",
    "for param in model_vgg.features[:-1].parameters():\n",
    "    param.requires_grad = False\n",
    "\n",
    "num_features = 4096\n",
    "\n",
    "model_vgg.classifier[-1] = nn.Sequential(\n",
    "    nn.Linear(num_features, 1),\n",
    "    nn.Sigmoid()\n",
    ")\n",
    "\n",
    "print(model_vgg)\n",
    "model_vgg = model_vgg.to(device)\n",
    "\n",
    "loss_fn2 = torch.nn.BCEWithLogitsLoss()\n",
    "\n",
    "optimizer2 = optimizer = optim.SGD(model_vgg.parameters(), lr=0.001, momentum=0.9)\n",
    "\n",
    "exp_lr_scheduler = lr_scheduler.StepLR(optimizer2, step_size=8, gamma=0.5) #e-4, 0.1 = 65,6"
   ],
   "metadata": {
    "collapsed": false,
    "ExecuteTime": {
     "end_time": "2024-01-01T19:28:41.511217Z",
     "start_time": "2024-01-01T19:28:39.924157Z"
    }
   },
   "id": "b8a8333ba83c2e29"
  },
  {
   "cell_type": "code",
   "execution_count": 43,
   "outputs": [
    {
     "name": "stderr",
     "output_type": "stream",
     "text": [
      "/var/folders/k2/rg_zc5tn7j79wyy5g9q0kc_h0000gn/T/ipykernel_15621/2615219682.py:12: TqdmDeprecationWarning: This function will be removed in tqdm==5.0.0\n",
      "Please use `tqdm.notebook.tqdm` instead of `tqdm.tqdm_notebook`\n",
      "  for epoch in tqdm_notebook(range(num_epochs)):\n"
     ]
    },
    {
     "data": {
      "text/plain": "  0%|          | 0/3 [00:00<?, ?it/s]",
      "application/vnd.jupyter.widget-view+json": {
       "version_major": 2,
       "version_minor": 0,
       "model_id": "9bb139eaf13449c1bcb6429678f4819c"
      }
     },
     "metadata": {},
     "output_type": "display_data"
    },
    {
     "name": "stderr",
     "output_type": "stream",
     "text": [
      "/var/folders/k2/rg_zc5tn7j79wyy5g9q0kc_h0000gn/T/ipykernel_15621/2615219682.py:18: TqdmDeprecationWarning: This function will be removed in tqdm==5.0.0\n",
      "Please use `tqdm.notebook.tqdm` instead of `tqdm.tqdm_notebook`\n",
      "  for i, batch in enumerate(tqdm_notebook(trainloader)):\n"
     ]
    },
    {
     "data": {
      "text/plain": "  0%|          | 0/116 [00:00<?, ?it/s]",
      "application/vnd.jupyter.widget-view+json": {
       "version_major": 2,
       "version_minor": 0,
       "model_id": "6b7d199c0e4343efaed93f2094cfdc19"
      }
     },
     "metadata": {},
     "output_type": "display_data"
    },
    {
     "name": "stdout",
     "output_type": "stream",
     "text": [
      "[1,    50] loss: 0.692\n",
      "[1,   100] loss: 0.694\n",
      "Total Accuracy is:  0.6410256410256411\n"
     ]
    },
    {
     "data": {
      "text/plain": "  0%|          | 0/116 [00:00<?, ?it/s]",
      "application/vnd.jupyter.widget-view+json": {
       "version_major": 2,
       "version_minor": 0,
       "model_id": "6483b1c9e2a8488bb7ed8537cee8e1e1"
      }
     },
     "metadata": {},
     "output_type": "display_data"
    },
    {
     "name": "stdout",
     "output_type": "stream",
     "text": [
      "[2,    50] loss: 0.683\n",
      "[2,   100] loss: 0.683\n",
      "Total Accuracy is:  0.5128205128205128\n"
     ]
    },
    {
     "data": {
      "text/plain": "  0%|          | 0/116 [00:00<?, ?it/s]",
      "application/vnd.jupyter.widget-view+json": {
       "version_major": 2,
       "version_minor": 0,
       "model_id": "94822ee4d1914c5fbf224567eaea17af"
      }
     },
     "metadata": {},
     "output_type": "display_data"
    },
    {
     "name": "stdout",
     "output_type": "stream",
     "text": [
      "[3,    50] loss: 0.675\n",
      "[3,   100] loss: 0.682\n",
      "Total Accuracy is:  0.6153846153846154\n"
     ]
    },
    {
     "data": {
      "text/plain": "<Figure size 1000x700 with 1 Axes>",
      "image/png": "[encoded data removed]"
     },
     "metadata": {},
     "output_type": "display_data"
    }
   ],
   "source": [
    "model_vgg, acc = train_model(model_vgg, loss_fn2, optimizer2, exp_lr_scheduler, num_epochs = 3) #gamma 1, 0.5"
   ],
   "metadata": {
    "collapsed": false,
    "ExecuteTime": {
     "end_time": "2024-01-01T19:31:42.709621Z",
     "start_time": "2024-01-01T19:28:49.135818Z"
    }
   },
   "id": "68d03b5659ddbe72"
  },
  {
   "cell_type": "code",
   "execution_count": 44,
   "outputs": [],
   "source": [],
   "metadata": {
    "collapsed": false,
    "ExecuteTime": {
     "end_time": "2024-01-01T19:32:08.327310Z",
     "start_time": "2024-01-01T19:32:06.229207Z"
    }
   },
   "id": "1053c04aebad79c1"
  },
  {
   "cell_type": "code",
   "execution_count": null,
   "outputs": [],
   "source": [
    "model = models.vgg16(pretrained = True)\n"
   ],
   "metadata": {
    "collapsed": false
   },
   "id": "bce8531766ada5fe"
  },
  {
   "cell_type": "code",
   "execution_count": 127,
   "outputs": [
    {
     "name": "stdout",
     "output_type": "stream",
     "text": [
      "ResNet(\n",
      "  (conv1): Conv2d(3, 64, kernel_size=(7, 7), stride=(2, 2), padding=(3, 3), bias=False)\n",
      "  (bn1): BatchNorm2d(64, eps=1e-05, momentum=0.1, affine=True, track_running_stats=True)\n",
      "  (relu): ReLU(inplace=True)\n",
      "  (maxpool): MaxPool2d(kernel_size=3, stride=2, padding=1, dilation=1, ceil_mode=False)\n",
      "  (layer1): Sequential(\n",
      "    (0): BasicBlock(\n",
      "      (conv1): Conv2d(64, 64, kernel_size=(3, 3), stride=(1, 1), padding=(1, 1), bias=False)\n",
      "      (bn1): BatchNorm2d(64, eps=1e-05, momentum=0.1, affine=True, track_running_stats=True)\n",
      "      (relu): ReLU(inplace=True)\n",
      "      (conv2): Conv2d(64, 64, kernel_size=(3, 3), stride=(1, 1), padding=(1, 1), bias=False)\n",
      "      (bn2): BatchNorm2d(64, eps=1e-05, momentum=0.1, affine=True, track_running_stats=True)\n",
      "    )\n",
      "    (1): BasicBlock(\n",
      "      (conv1): Conv2d(64, 64, kernel_size=(3, 3), stride=(1, 1), padding=(1, 1), bias=False)\n",
      "      (bn1): BatchNorm2d(64, eps=1e-05, momentum=0.1, affine=True, track_running_stats=True)\n",
      "      (relu): ReLU(inplace=True)\n",
      "      (conv2): Conv2d(64, 64, kernel_size=(3, 3), stride=(1, 1), padding=(1, 1), bias=False)\n",
      "      (bn2): BatchNorm2d(64, eps=1e-05, momentum=0.1, affine=True, track_running_stats=True)\n",
      "    )\n",
      "  )\n",
      "  (layer2): Sequential(\n",
      "    (0): BasicBlock(\n",
      "      (conv1): Conv2d(64, 128, kernel_size=(3, 3), stride=(2, 2), padding=(1, 1), bias=False)\n",
      "      (bn1): BatchNorm2d(128, eps=1e-05, momentum=0.1, affine=True, track_running_stats=True)\n",
      "      (relu): ReLU(inplace=True)\n",
      "      (conv2): Conv2d(128, 128, kernel_size=(3, 3), stride=(1, 1), padding=(1, 1), bias=False)\n",
      "      (bn2): BatchNorm2d(128, eps=1e-05, momentum=0.1, affine=True, track_running_stats=True)\n",
      "      (downsample): Sequential(\n",
      "        (0): Conv2d(64, 128, kernel_size=(1, 1), stride=(2, 2), bias=False)\n",
      "        (1): BatchNorm2d(128, eps=1e-05, momentum=0.1, affine=True, track_running_stats=True)\n",
      "      )\n",
      "    )\n",
      "    (1): BasicBlock(\n",
      "      (conv1): Conv2d(128, 128, kernel_size=(3, 3), stride=(1, 1), padding=(1, 1), bias=False)\n",
      "      (bn1): BatchNorm2d(128, eps=1e-05, momentum=0.1, affine=True, track_running_stats=True)\n",
      "      (relu): ReLU(inplace=True)\n",
      "      (conv2): Conv2d(128, 128, kernel_size=(3, 3), stride=(1, 1), padding=(1, 1), bias=False)\n",
      "      (bn2): BatchNorm2d(128, eps=1e-05, momentum=0.1, affine=True, track_running_stats=True)\n",
      "    )\n",
      "  )\n",
      "  (layer3): Sequential(\n",
      "    (0): BasicBlock(\n",
      "      (conv1): Conv2d(128, 256, kernel_size=(3, 3), stride=(2, 2), padding=(1, 1), bias=False)\n",
      "      (bn1): BatchNorm2d(256, eps=1e-05, momentum=0.1, affine=True, track_running_stats=True)\n",
      "      (relu): ReLU(inplace=True)\n",
      "      (conv2): Conv2d(256, 256, kernel_size=(3, 3), stride=(1, 1), padding=(1, 1), bias=False)\n",
      "      (bn2): BatchNorm2d(256, eps=1e-05, momentum=0.1, affine=True, track_running_stats=True)\n",
      "      (downsample): Sequential(\n",
      "        (0): Conv2d(128, 256, kernel_size=(1, 1), stride=(2, 2), bias=False)\n",
      "        (1): BatchNorm2d(256, eps=1e-05, momentum=0.1, affine=True, track_running_stats=True)\n",
      "      )\n",
      "    )\n",
      "    (1): BasicBlock(\n",
      "      (conv1): Conv2d(256, 256, kernel_size=(3, 3), stride=(1, 1), padding=(1, 1), bias=False)\n",
      "      (bn1): BatchNorm2d(256, eps=1e-05, momentum=0.1, affine=True, track_running_stats=True)\n",
      "      (relu): ReLU(inplace=True)\n",
      "      (conv2): Conv2d(256, 256, kernel_size=(3, 3), stride=(1, 1), padding=(1, 1), bias=False)\n",
      "      (bn2): BatchNorm2d(256, eps=1e-05, momentum=0.1, affine=True, track_running_stats=True)\n",
      "    )\n",
      "  )\n",
      "  (layer4): Sequential(\n",
      "    (0): BasicBlock(\n",
      "      (conv1): Conv2d(256, 512, kernel_size=(3, 3), stride=(2, 2), padding=(1, 1), bias=False)\n",
      "      (bn1): BatchNorm2d(512, eps=1e-05, momentum=0.1, affine=True, track_running_stats=True)\n",
      "      (relu): ReLU(inplace=True)\n",
      "      (conv2): Conv2d(512, 512, kernel_size=(3, 3), stride=(1, 1), padding=(1, 1), bias=False)\n",
      "      (bn2): BatchNorm2d(512, eps=1e-05, momentum=0.1, affine=True, track_running_stats=True)\n",
      "      (downsample): Sequential(\n",
      "        (0): Conv2d(256, 512, kernel_size=(1, 1), stride=(2, 2), bias=False)\n",
      "        (1): BatchNorm2d(512, eps=1e-05, momentum=0.1, affine=True, track_running_stats=True)\n",
      "      )\n",
      "    )\n",
      "    (1): BasicBlock(\n",
      "      (conv1): Conv2d(512, 512, kernel_size=(3, 3), stride=(1, 1), padding=(1, 1), bias=False)\n",
      "      (bn1): BatchNorm2d(512, eps=1e-05, momentum=0.1, affine=True, track_running_stats=True)\n",
      "      (relu): ReLU(inplace=True)\n",
      "      (conv2): Conv2d(512, 512, kernel_size=(3, 3), stride=(1, 1), padding=(1, 1), bias=False)\n",
      "      (bn2): BatchNorm2d(512, eps=1e-05, momentum=0.1, affine=True, track_running_stats=True)\n",
      "    )\n",
      "  )\n",
      "  (avgpool): AdaptiveAvgPool2d(output_size=(1, 1))\n",
      "  (fc): Linear(in_features=512, out_features=1000, bias=True)\n",
      ")\n",
      "ResNet(\n",
      "  (conv1): Conv2d(3, 64, kernel_size=(7, 7), stride=(2, 2), padding=(3, 3), bias=False)\n",
      "  (bn1): BatchNorm2d(64, eps=1e-05, momentum=0.1, affine=True, track_running_stats=True)\n",
      "  (relu): ReLU(inplace=True)\n",
      "  (maxpool): MaxPool2d(kernel_size=3, stride=2, padding=1, dilation=1, ceil_mode=False)\n",
      "  (layer1): Sequential(\n",
      "    (0): BasicBlock(\n",
      "      (conv1): Conv2d(64, 64, kernel_size=(3, 3), stride=(1, 1), padding=(1, 1), bias=False)\n",
      "      (bn1): BatchNorm2d(64, eps=1e-05, momentum=0.1, affine=True, track_running_stats=True)\n",
      "      (relu): ReLU(inplace=True)\n",
      "      (conv2): Conv2d(64, 64, kernel_size=(3, 3), stride=(1, 1), padding=(1, 1), bias=False)\n",
      "      (bn2): BatchNorm2d(64, eps=1e-05, momentum=0.1, affine=True, track_running_stats=True)\n",
      "    )\n",
      "    (1): BasicBlock(\n",
      "      (conv1): Conv2d(64, 64, kernel_size=(3, 3), stride=(1, 1), padding=(1, 1), bias=False)\n",
      "      (bn1): BatchNorm2d(64, eps=1e-05, momentum=0.1, affine=True, track_running_stats=True)\n",
      "      (relu): ReLU(inplace=True)\n",
      "      (conv2): Conv2d(64, 64, kernel_size=(3, 3), stride=(1, 1), padding=(1, 1), bias=False)\n",
      "      (bn2): BatchNorm2d(64, eps=1e-05, momentum=0.1, affine=True, track_running_stats=True)\n",
      "    )\n",
      "  )\n",
      "  (layer2): Sequential(\n",
      "    (0): BasicBlock(\n",
      "      (conv1): Conv2d(64, 128, kernel_size=(3, 3), stride=(2, 2), padding=(1, 1), bias=False)\n",
      "      (bn1): BatchNorm2d(128, eps=1e-05, momentum=0.1, affine=True, track_running_stats=True)\n",
      "      (relu): ReLU(inplace=True)\n",
      "      (conv2): Conv2d(128, 128, kernel_size=(3, 3), stride=(1, 1), padding=(1, 1), bias=False)\n",
      "      (bn2): BatchNorm2d(128, eps=1e-05, momentum=0.1, affine=True, track_running_stats=True)\n",
      "      (downsample): Sequential(\n",
      "        (0): Conv2d(64, 128, kernel_size=(1, 1), stride=(2, 2), bias=False)\n",
      "        (1): BatchNorm2d(128, eps=1e-05, momentum=0.1, affine=True, track_running_stats=True)\n",
      "      )\n",
      "    )\n",
      "    (1): BasicBlock(\n",
      "      (conv1): Conv2d(128, 128, kernel_size=(3, 3), stride=(1, 1), padding=(1, 1), bias=False)\n",
      "      (bn1): BatchNorm2d(128, eps=1e-05, momentum=0.1, affine=True, track_running_stats=True)\n",
      "      (relu): ReLU(inplace=True)\n",
      "      (conv2): Conv2d(128, 128, kernel_size=(3, 3), stride=(1, 1), padding=(1, 1), bias=False)\n",
      "      (bn2): BatchNorm2d(128, eps=1e-05, momentum=0.1, affine=True, track_running_stats=True)\n",
      "    )\n",
      "  )\n",
      "  (layer3): Sequential(\n",
      "    (0): BasicBlock(\n",
      "      (conv1): Conv2d(128, 256, kernel_size=(3, 3), stride=(2, 2), padding=(1, 1), bias=False)\n",
      "      (bn1): BatchNorm2d(256, eps=1e-05, momentum=0.1, affine=True, track_running_stats=True)\n",
      "      (relu): ReLU(inplace=True)\n",
      "      (conv2): Conv2d(256, 256, kernel_size=(3, 3), stride=(1, 1), padding=(1, 1), bias=False)\n",
      "      (bn2): BatchNorm2d(256, eps=1e-05, momentum=0.1, affine=True, track_running_stats=True)\n",
      "      (downsample): Sequential(\n",
      "        (0): Conv2d(128, 256, kernel_size=(1, 1), stride=(2, 2), bias=False)\n",
      "        (1): BatchNorm2d(256, eps=1e-05, momentum=0.1, affine=True, track_running_stats=True)\n",
      "      )\n",
      "    )\n",
      "    (1): BasicBlock(\n",
      "      (conv1): Conv2d(256, 256, kernel_size=(3, 3), stride=(1, 1), padding=(1, 1), bias=False)\n",
      "      (bn1): BatchNorm2d(256, eps=1e-05, momentum=0.1, affine=True, track_running_stats=True)\n",
      "      (relu): ReLU(inplace=True)\n",
      "      (conv2): Conv2d(256, 256, kernel_size=(3, 3), stride=(1, 1), padding=(1, 1), bias=False)\n",
      "      (bn2): BatchNorm2d(256, eps=1e-05, momentum=0.1, affine=True, track_running_stats=True)\n",
      "    )\n",
      "  )\n",
      "  (layer4): Sequential(\n",
      "    (0): BasicBlock(\n",
      "      (conv1): Conv2d(256, 512, kernel_size=(3, 3), stride=(2, 2), padding=(1, 1), bias=False)\n",
      "      (bn1): BatchNorm2d(512, eps=1e-05, momentum=0.1, affine=True, track_running_stats=True)\n",
      "      (relu): ReLU(inplace=True)\n",
      "      (conv2): Conv2d(512, 512, kernel_size=(3, 3), stride=(1, 1), padding=(1, 1), bias=False)\n",
      "      (bn2): BatchNorm2d(512, eps=1e-05, momentum=0.1, affine=True, track_running_stats=True)\n",
      "      (downsample): Sequential(\n",
      "        (0): Conv2d(256, 512, kernel_size=(1, 1), stride=(2, 2), bias=False)\n",
      "        (1): BatchNorm2d(512, eps=1e-05, momentum=0.1, affine=True, track_running_stats=True)\n",
      "      )\n",
      "    )\n",
      "    (1): BasicBlock(\n",
      "      (conv1): Conv2d(512, 512, kernel_size=(3, 3), stride=(1, 1), padding=(1, 1), bias=False)\n",
      "      (bn1): BatchNorm2d(512, eps=1e-05, momentum=0.1, affine=True, track_running_stats=True)\n",
      "      (relu): ReLU(inplace=True)\n",
      "      (conv2): Conv2d(512, 512, kernel_size=(3, 3), stride=(1, 1), padding=(1, 1), bias=False)\n",
      "      (bn2): BatchNorm2d(512, eps=1e-05, momentum=0.1, affine=True, track_running_stats=True)\n",
      "    )\n",
      "  )\n",
      "  (avgpool): AdaptiveAvgPool2d(output_size=(1, 1))\n",
      "  (fc): Sequential(\n",
      "    (0): Linear(in_features=512, out_features=1, bias=True)\n",
      "    (1): Sigmoid()\n",
      "  )\n",
      ")\n"
     ]
    }
   ],
   "source": [
    "resnet = models.resnet18(pretrained = True) #best model gives 73% \n",
    "layer_to_unfreeze = 2\n",
    "print(resnet)\n",
    "for param in resnet.parameters():\n",
    "    param.requires_grad = False\n",
    "\n",
    "for param in resnet.layer4.parameters():\n",
    "    param.requires_grad = True\n",
    "for param in resnet.layer3.parameters():\n",
    "    param.requires_grad = True\n",
    "\n",
    "resnet.fc = nn.Sequential(\n",
    "    nn.Linear(512, 1),\n",
    "    nn.Sigmoid()\n",
    ")\n",
    "\n",
    "resnet = resnet.to(device)\n",
    "\n",
    "loss_fn2 = torch.nn.BCEWithLogitsLoss()\n",
    "\n",
    "optimizer3 = optim.SGD(resnet.parameters(), lr=0.001, momentum=0.9)\n",
    "\n",
    "exp_lr_scheduler = lr_scheduler.StepLR(optimizer3, step_size=10, gamma=1) #e-4, 0.1 = 65,6"
   ],
   "metadata": {
    "collapsed": false,
    "ExecuteTime": {
     "end_time": "2024-01-01T20:58:26.869573Z",
     "start_time": "2024-01-01T20:58:23.145667Z"
    }
   },
   "id": "341ad24fc6bf558b"
  },
  {
   "cell_type": "code",
   "execution_count": 129,
   "outputs": [
    {
     "name": "stderr",
     "output_type": "stream",
     "text": [
      "/var/folders/k2/rg_zc5tn7j79wyy5g9q0kc_h0000gn/T/ipykernel_15621/4075259936.py:12: TqdmDeprecationWarning: This function will be removed in tqdm==5.0.0\n",
      "Please use `tqdm.notebook.tqdm` instead of `tqdm.tqdm_notebook`\n",
      "  for epoch in tqdm_notebook(range(num_epochs)):\n"
     ]
    },
    {
     "data": {
      "text/plain": "  0%|          | 0/20 [00:00<?, ?it/s]",
      "application/vnd.jupyter.widget-view+json": {
       "version_major": 2,
       "version_minor": 0,
       "model_id": "5dc73fe7cab84d89a7f937e6265bd396"
      }
     },
     "metadata": {},
     "output_type": "display_data"
    },
    {
     "name": "stderr",
     "output_type": "stream",
     "text": [
      "/var/folders/k2/rg_zc5tn7j79wyy5g9q0kc_h0000gn/T/ipykernel_15621/4075259936.py:18: TqdmDeprecationWarning: This function will be removed in tqdm==5.0.0\n",
      "Please use `tqdm.notebook.tqdm` instead of `tqdm.tqdm_notebook`\n",
      "  for i, batch in enumerate(tqdm_notebook(trainloader)):\n"
     ]
    },
    {
     "data": {
      "text/plain": "  0%|          | 0/116 [00:00<?, ?it/s]",
      "application/vnd.jupyter.widget-view+json": {
       "version_major": 2,
       "version_minor": 0,
       "model_id": "e6da879cfe9c4f36b935dc11762246cd"
      }
     },
     "metadata": {},
     "output_type": "display_data"
    },
    {
     "name": "stdout",
     "output_type": "stream",
     "text": [
      "[1,    25] loss: 0.258\n",
      "[1,    50] loss: 0.263\n",
      "[1,    75] loss: 0.264\n",
      "[1,   100] loss: 0.257\n",
      "Total Accuracy is:  0.675\n"
     ]
    },
    {
     "data": {
      "text/plain": "  0%|          | 0/116 [00:00<?, ?it/s]",
      "application/vnd.jupyter.widget-view+json": {
       "version_major": 2,
       "version_minor": 0,
       "model_id": "cde4987662df4e8c8ee572e686c1e685"
      }
     },
     "metadata": {},
     "output_type": "display_data"
    },
    {
     "name": "stdout",
     "output_type": "stream",
     "text": [
      "[2,    25] loss: 0.260\n",
      "[2,    50] loss: 0.255\n",
      "[2,    75] loss: 0.261\n",
      "[2,   100] loss: 0.264\n",
      "Total Accuracy is:  0.68\n"
     ]
    },
    {
     "data": {
      "text/plain": "  0%|          | 0/116 [00:00<?, ?it/s]",
      "application/vnd.jupyter.widget-view+json": {
       "version_major": 2,
       "version_minor": 0,
       "model_id": "1bc7e8a75be249d2bd172b7f35f1733e"
      }
     },
     "metadata": {},
     "output_type": "display_data"
    },
    {
     "name": "stdout",
     "output_type": "stream",
     "text": [
      "[3,    25] loss: 0.253\n",
      "[3,    50] loss: 0.255\n",
      "[3,    75] loss: 0.260\n",
      "[3,   100] loss: 0.257\n",
      "Total Accuracy is:  0.675\n"
     ]
    },
    {
     "data": {
      "text/plain": "  0%|          | 0/116 [00:00<?, ?it/s]",
      "application/vnd.jupyter.widget-view+json": {
       "version_major": 2,
       "version_minor": 0,
       "model_id": "9f2e2969b33744788f4ac52c58b1fe94"
      }
     },
     "metadata": {},
     "output_type": "display_data"
    },
    {
     "name": "stdout",
     "output_type": "stream",
     "text": [
      "[4,    25] loss: 0.258\n",
      "[4,    50] loss: 0.253\n",
      "[4,    75] loss: 0.249\n",
      "[4,   100] loss: 0.250\n",
      "Total Accuracy is:  0.715\n"
     ]
    },
    {
     "data": {
      "text/plain": "  0%|          | 0/116 [00:00<?, ?it/s]",
      "application/vnd.jupyter.widget-view+json": {
       "version_major": 2,
       "version_minor": 0,
       "model_id": "89b55e5b2e264ed791f2ddff1a6fe6b7"
      }
     },
     "metadata": {},
     "output_type": "display_data"
    },
    {
     "name": "stdout",
     "output_type": "stream",
     "text": [
      "[5,    25] loss: 0.253\n",
      "[5,    50] loss: 0.261\n",
      "[5,    75] loss: 0.259\n",
      "[5,   100] loss: 0.246\n",
      "Total Accuracy is:  0.67\n"
     ]
    },
    {
     "data": {
      "text/plain": "  0%|          | 0/116 [00:00<?, ?it/s]",
      "application/vnd.jupyter.widget-view+json": {
       "version_major": 2,
       "version_minor": 0,
       "model_id": "bf6edb22144e4d2b901a52ca2993df39"
      }
     },
     "metadata": {},
     "output_type": "display_data"
    },
    {
     "name": "stdout",
     "output_type": "stream",
     "text": [
      "[6,    25] loss: 0.259\n",
      "[6,    50] loss: 0.250\n",
      "[6,    75] loss: 0.253\n",
      "[6,   100] loss: 0.253\n",
      "Total Accuracy is:  0.67\n"
     ]
    },
    {
     "data": {
      "text/plain": "  0%|          | 0/116 [00:00<?, ?it/s]",
      "application/vnd.jupyter.widget-view+json": {
       "version_major": 2,
       "version_minor": 0,
       "model_id": "31ca9fc50a234bfcad051df254a4e10e"
      }
     },
     "metadata": {},
     "output_type": "display_data"
    },
    {
     "name": "stdout",
     "output_type": "stream",
     "text": [
      "[7,    25] loss: 0.249\n",
      "[7,    50] loss: 0.247\n",
      "[7,    75] loss: 0.250\n",
      "[7,   100] loss: 0.258\n",
      "Total Accuracy is:  0.685\n"
     ]
    },
    {
     "data": {
      "text/plain": "  0%|          | 0/116 [00:00<?, ?it/s]",
      "application/vnd.jupyter.widget-view+json": {
       "version_major": 2,
       "version_minor": 0,
       "model_id": "8a787bc17fd34b06a11a102c3a006e20"
      }
     },
     "metadata": {},
     "output_type": "display_data"
    },
    {
     "name": "stdout",
     "output_type": "stream",
     "text": [
      "[8,    25] loss: 0.251\n",
      "[8,    50] loss: 0.253\n",
      "[8,    75] loss: 0.249\n",
      "[8,   100] loss: 0.250\n",
      "Total Accuracy is:  0.69\n"
     ]
    },
    {
     "data": {
      "text/plain": "  0%|          | 0/116 [00:00<?, ?it/s]",
      "application/vnd.jupyter.widget-view+json": {
       "version_major": 2,
       "version_minor": 0,
       "model_id": "a0b4bb37b8984a518d2b121078f4c024"
      }
     },
     "metadata": {},
     "output_type": "display_data"
    },
    {
     "name": "stdout",
     "output_type": "stream",
     "text": [
      "[9,    25] loss: 0.255\n",
      "[9,    50] loss: 0.248\n",
      "[9,    75] loss: 0.249\n",
      "[9,   100] loss: 0.248\n",
      "Total Accuracy is:  0.685\n"
     ]
    },
    {
     "data": {
      "text/plain": "  0%|          | 0/116 [00:00<?, ?it/s]",
      "application/vnd.jupyter.widget-view+json": {
       "version_major": 2,
       "version_minor": 0,
       "model_id": "fd9ad556e221421a96108ebf7709abfc"
      }
     },
     "metadata": {},
     "output_type": "display_data"
    },
    {
     "name": "stdout",
     "output_type": "stream",
     "text": [
      "[10,    25] loss: 0.256\n",
      "[10,    50] loss: 0.250\n",
      "[10,    75] loss: 0.248\n",
      "[10,   100] loss: 0.248\n",
      "Total Accuracy is:  0.66\n"
     ]
    },
    {
     "data": {
      "text/plain": "  0%|          | 0/116 [00:00<?, ?it/s]",
      "application/vnd.jupyter.widget-view+json": {
       "version_major": 2,
       "version_minor": 0,
       "model_id": "e905f06e4d5a4c5b974cfa28183dce67"
      }
     },
     "metadata": {},
     "output_type": "display_data"
    },
    {
     "name": "stdout",
     "output_type": "stream",
     "text": [
      "[11,    25] loss: 0.246\n",
      "[11,    50] loss: 0.247\n",
      "[11,    75] loss: 0.250\n",
      "[11,   100] loss: 0.252\n",
      "Total Accuracy is:  0.705\n"
     ]
    },
    {
     "data": {
      "text/plain": "  0%|          | 0/116 [00:00<?, ?it/s]",
      "application/vnd.jupyter.widget-view+json": {
       "version_major": 2,
       "version_minor": 0,
       "model_id": "3c9128d037554f63b85a77a772d9e4c4"
      }
     },
     "metadata": {},
     "output_type": "display_data"
    },
    {
     "name": "stdout",
     "output_type": "stream",
     "text": [
      "[12,    25] loss: 0.251\n",
      "[12,    50] loss: 0.246\n",
      "[12,    75] loss: 0.252\n",
      "[12,   100] loss: 0.250\n",
      "Total Accuracy is:  0.645\n"
     ]
    },
    {
     "data": {
      "text/plain": "  0%|          | 0/116 [00:00<?, ?it/s]",
      "application/vnd.jupyter.widget-view+json": {
       "version_major": 2,
       "version_minor": 0,
       "model_id": "c16d8c8e3a5a4ecdb9ee4ecd6f7372f5"
      }
     },
     "metadata": {},
     "output_type": "display_data"
    },
    {
     "name": "stdout",
     "output_type": "stream",
     "text": [
      "[13,    25] loss: 0.248\n",
      "[13,    50] loss: 0.243\n",
      "[13,    75] loss: 0.259\n",
      "[13,   100] loss: 0.245\n",
      "Total Accuracy is:  0.69\n"
     ]
    },
    {
     "data": {
      "text/plain": "  0%|          | 0/116 [00:00<?, ?it/s]",
      "application/vnd.jupyter.widget-view+json": {
       "version_major": 2,
       "version_minor": 0,
       "model_id": "9551ca789dd54918b0c42e0caecabb61"
      }
     },
     "metadata": {},
     "output_type": "display_data"
    },
    {
     "name": "stdout",
     "output_type": "stream",
     "text": [
      "[14,    25] loss: 0.253\n",
      "[14,    50] loss: 0.250\n",
      "[14,    75] loss: 0.245\n",
      "[14,   100] loss: 0.247\n",
      "Total Accuracy is:  0.675\n"
     ]
    },
    {
     "data": {
      "text/plain": "  0%|          | 0/116 [00:00<?, ?it/s]",
      "application/vnd.jupyter.widget-view+json": {
       "version_major": 2,
       "version_minor": 0,
       "model_id": "9ff0436cdc57401cab4175aa5fe39f57"
      }
     },
     "metadata": {},
     "output_type": "display_data"
    },
    {
     "name": "stdout",
     "output_type": "stream",
     "text": [
      "[15,    25] loss: 0.258\n",
      "[15,    50] loss: 0.248\n",
      "[15,    75] loss: 0.249\n",
      "[15,   100] loss: 0.244\n",
      "Total Accuracy is:  0.685\n"
     ]
    },
    {
     "data": {
      "text/plain": "  0%|          | 0/116 [00:00<?, ?it/s]",
      "application/vnd.jupyter.widget-view+json": {
       "version_major": 2,
       "version_minor": 0,
       "model_id": "2ab66aaad1284f2c96e40e5ae7353888"
      }
     },
     "metadata": {},
     "output_type": "display_data"
    },
    {
     "name": "stdout",
     "output_type": "stream",
     "text": [
      "[16,    25] loss: 0.252\n",
      "[16,    50] loss: 0.248\n",
      "[16,    75] loss: 0.248\n",
      "[16,   100] loss: 0.248\n",
      "Total Accuracy is:  0.66\n"
     ]
    },
    {
     "data": {
      "text/plain": "  0%|          | 0/116 [00:00<?, ?it/s]",
      "application/vnd.jupyter.widget-view+json": {
       "version_major": 2,
       "version_minor": 0,
       "model_id": "b13df17b931c4c6795405f6c3b83145f"
      }
     },
     "metadata": {},
     "output_type": "display_data"
    },
    {
     "name": "stdout",
     "output_type": "stream",
     "text": [
      "[17,    25] loss: 0.253\n",
      "[17,    50] loss: 0.249\n",
      "[17,    75] loss: 0.250\n",
      "[17,   100] loss: 0.247\n",
      "Total Accuracy is:  0.645\n"
     ]
    },
    {
     "data": {
      "text/plain": "  0%|          | 0/116 [00:00<?, ?it/s]",
      "application/vnd.jupyter.widget-view+json": {
       "version_major": 2,
       "version_minor": 0,
       "model_id": "f33bbd204a3f4dd5b8b23be3e7b033c5"
      }
     },
     "metadata": {},
     "output_type": "display_data"
    },
    {
     "name": "stdout",
     "output_type": "stream",
     "text": [
      "[18,    25] loss: 0.248\n",
      "[18,    50] loss: 0.242\n",
      "[18,    75] loss: 0.255\n",
      "[18,   100] loss: 0.247\n",
      "Total Accuracy is:  0.695\n"
     ]
    },
    {
     "data": {
      "text/plain": "  0%|          | 0/116 [00:00<?, ?it/s]",
      "application/vnd.jupyter.widget-view+json": {
       "version_major": 2,
       "version_minor": 0,
       "model_id": "bb4bc36105c04e46a43a7bc28138a2b9"
      }
     },
     "metadata": {},
     "output_type": "display_data"
    },
    {
     "name": "stdout",
     "output_type": "stream",
     "text": [
      "[19,    25] loss: 0.243\n",
      "[19,    50] loss: 0.247\n",
      "[19,    75] loss: 0.253\n",
      "[19,   100] loss: 0.249\n",
      "Total Accuracy is:  0.68\n"
     ]
    },
    {
     "data": {
      "text/plain": "  0%|          | 0/116 [00:00<?, ?it/s]",
      "application/vnd.jupyter.widget-view+json": {
       "version_major": 2,
       "version_minor": 0,
       "model_id": "45d81375c44e4e3a9d03adb70b435b9f"
      }
     },
     "metadata": {},
     "output_type": "display_data"
    },
    {
     "name": "stdout",
     "output_type": "stream",
     "text": [
      "[20,    25] loss: 0.250\n",
      "[20,    50] loss: 0.253\n",
      "[20,    75] loss: 0.239\n",
      "[20,   100] loss: 0.247\n",
      "Total Accuracy is:  0.69\n"
     ]
    },
    {
     "data": {
      "text/plain": "<Figure size 1000x700 with 1 Axes>",
      "image/png": "[encoded data removed]"
     },
     "metadata": {},
     "output_type": "display_data"
    }
   ],
   "source": [
    "resnet, acc = train_model(resnet, loss_fn2, optimizer3, exp_lr_scheduler, num_epochs = 20) #gamma 1, 0.5"
   ],
   "metadata": {
    "collapsed": false,
    "ExecuteTime": {
     "end_time": "2024-01-01T21:27:27.208791Z",
     "start_time": "2024-01-01T21:13:12.024838Z"
    }
   },
   "id": "d0e98fdc533a730"
  },
  {
   "cell_type": "code",
   "execution_count": 130,
   "outputs": [],
   "source": [
    "torch.save(resnet.state_dict(), 'resnet_71,5_on50epoch_three_last_layer_SGD(0.001, 09)_gamma 1, batch_size = 16 Imagenet.pth')\n",
    "\n"
   ],
   "metadata": {
    "collapsed": false,
    "ExecuteTime": {
     "end_time": "2024-01-01T21:28:50.657079Z",
     "start_time": "2024-01-01T21:28:49.955654Z"
    }
   },
   "id": "c5cdc9118806abae"
  },
  {
   "cell_type": "code",
   "execution_count": 132,
   "outputs": [
    {
     "name": "stdout",
     "output_type": "stream",
     "text": [
      "[64, 65] [100, 100]\n",
      "0.645\n"
     ]
    }
   ],
   "source": [
    "class_correct = [0,0]\n",
    "class_total = [0,0]\n",
    "classes = ['Real', 'Fake']\n",
    "\n",
    "with torch.no_grad():\n",
    "    for data in testloader:\n",
    "        images, labels = data\n",
    "        images = images.to(device)\n",
    "\n",
    "        if len(labels) == 2:\n",
    "            continue\n",
    "        y_pred = resnet(images)\n",
    "\n",
    "\n",
    "        predicted = torch.squeeze(torch.round(y_pred))\n",
    "        # print(predicted)\n",
    "        # print(labels)\n",
    "        c = predicted.cpu().detach() == labels\n",
    "\n",
    "\n",
    "        #print(labels)\n",
    "        for i in range(len(labels)):\n",
    "\n",
    "            label = labels[i]\n",
    "            class_correct[label] += c[i].item()\n",
    "            class_total[label] += 1\n",
    "\n",
    "print(class_correct, class_total)\n",
    "print(sum(class_correct) / sum(class_total))\n"
   ],
   "metadata": {
    "collapsed": false,
    "ExecuteTime": {
     "end_time": "2024-01-01T21:29:21.853255Z",
     "start_time": "2024-01-01T21:29:16.942292Z"
    }
   },
   "id": "4761838306bb1cf"
  },
  {
   "cell_type": "code",
   "execution_count": 105,
   "outputs": [],
   "source": [
    "torch.save(resnet.state_dict(), 'resnet_73_on50epoch_two_last_layer_SGD(0.001, 09)_gamma 1, batch_size = 16 Imagenet.pth')"
   ],
   "metadata": {
    "collapsed": false,
    "ExecuteTime": {
     "end_time": "2024-01-01T20:41:21.699284Z",
     "start_time": "2024-01-01T20:41:20.690984Z"
    }
   },
   "id": "7d42130d213f0de0"
  },
  {
   "cell_type": "code",
   "execution_count": 113,
   "outputs": [
    {
     "ename": "RuntimeError",
     "evalue": "The size of tensor a (512) must match the size of tensor b (7) at non-singleton dimension 3",
     "output_type": "error",
     "traceback": [
      "\u001B[0;31m---------------------------------------------------------------------------\u001B[0m",
      "\u001B[0;31mRuntimeError\u001B[0m                              Traceback (most recent call last)",
      "Cell \u001B[0;32mIn[113], line 19\u001B[0m\n\u001B[1;32m     17\u001B[0m \u001B[38;5;66;03m# Define parameters for the optimizer\u001B[39;00m\n\u001B[1;32m     18\u001B[0m classifier_params \u001B[38;5;241m=\u001B[39m \u001B[38;5;28mlist\u001B[39m(resnet2\u001B[38;5;241m.\u001B[39mfc\u001B[38;5;241m.\u001B[39mparameters())\n\u001B[0;32m---> 19\u001B[0m other_params \u001B[38;5;241m=\u001B[39m [param \u001B[38;5;28;01mfor\u001B[39;00m param \u001B[38;5;129;01min\u001B[39;00m resnet2\u001B[38;5;241m.\u001B[39mparameters() \u001B[38;5;28;01mif\u001B[39;00m param \u001B[38;5;129;01mnot\u001B[39;00m \u001B[38;5;129;01min\u001B[39;00m classifier_params]\n\u001B[1;32m     21\u001B[0m \u001B[38;5;66;03m# Define optimizer\u001B[39;00m\n\u001B[1;32m     22\u001B[0m optimizer3 \u001B[38;5;241m=\u001B[39m Adam([\n\u001B[1;32m     23\u001B[0m     {\u001B[38;5;124m'\u001B[39m\u001B[38;5;124mparams\u001B[39m\u001B[38;5;124m'\u001B[39m: classifier_params},\n\u001B[1;32m     24\u001B[0m     {\u001B[38;5;124m'\u001B[39m\u001B[38;5;124mparams\u001B[39m\u001B[38;5;124m'\u001B[39m: other_params, \u001B[38;5;124m'\u001B[39m\u001B[38;5;124mlr\u001B[39m\u001B[38;5;124m'\u001B[39m: \u001B[38;5;241m1e-5\u001B[39m}\n\u001B[1;32m     25\u001B[0m ], lr\u001B[38;5;241m=\u001B[39m\u001B[38;5;241m1e-4\u001B[39m)\n",
      "Cell \u001B[0;32mIn[113], line 19\u001B[0m, in \u001B[0;36m<listcomp>\u001B[0;34m(.0)\u001B[0m\n\u001B[1;32m     17\u001B[0m \u001B[38;5;66;03m# Define parameters for the optimizer\u001B[39;00m\n\u001B[1;32m     18\u001B[0m classifier_params \u001B[38;5;241m=\u001B[39m \u001B[38;5;28mlist\u001B[39m(resnet2\u001B[38;5;241m.\u001B[39mfc\u001B[38;5;241m.\u001B[39mparameters())\n\u001B[0;32m---> 19\u001B[0m other_params \u001B[38;5;241m=\u001B[39m [param \u001B[38;5;28;01mfor\u001B[39;00m param \u001B[38;5;129;01min\u001B[39;00m resnet2\u001B[38;5;241m.\u001B[39mparameters() \u001B[38;5;28;01mif\u001B[39;00m param \u001B[38;5;129;01mnot\u001B[39;00m \u001B[38;5;129;01min\u001B[39;00m classifier_params]\n\u001B[1;32m     21\u001B[0m \u001B[38;5;66;03m# Define optimizer\u001B[39;00m\n\u001B[1;32m     22\u001B[0m optimizer3 \u001B[38;5;241m=\u001B[39m Adam([\n\u001B[1;32m     23\u001B[0m     {\u001B[38;5;124m'\u001B[39m\u001B[38;5;124mparams\u001B[39m\u001B[38;5;124m'\u001B[39m: classifier_params},\n\u001B[1;32m     24\u001B[0m     {\u001B[38;5;124m'\u001B[39m\u001B[38;5;124mparams\u001B[39m\u001B[38;5;124m'\u001B[39m: other_params, \u001B[38;5;124m'\u001B[39m\u001B[38;5;124mlr\u001B[39m\u001B[38;5;124m'\u001B[39m: \u001B[38;5;241m1e-5\u001B[39m}\n\u001B[1;32m     25\u001B[0m ], lr\u001B[38;5;241m=\u001B[39m\u001B[38;5;241m1e-4\u001B[39m)\n",
      "\u001B[0;31mRuntimeError\u001B[0m: The size of tensor a (512) must match the size of tensor b (7) at non-singleton dimension 3"
     ]
    }
   ],
   "source": [
    "import torch\n",
    "import torch.nn as nn\n",
    "from torchvision import models\n",
    "from torch.optim import Adam, lr_scheduler\n",
    "\n",
    "device = torch.device(\"cuda\" if torch.cuda.is_available() else \"cpu\")\n",
    "\n",
    "\n",
    "resnet2 = models.resnet18(pretrained=True)\n",
    "\n",
    "\n",
    "resnet2.fc = nn.Sequential(\n",
    "    nn.Linear(resnet2.fc.in_features, 1),  \n",
    "    nn.Sigmoid()\n",
    ")\n",
    "\n",
    "\n",
    "classifier_params = list(resnet2.fc.parameters())\n",
    "other_params = [param for param in resnet2.parameters() if param not in classifier_params]\n",
    "\n",
    "optimizer3 = Adam([\n",
    "    {'params': classifier_params},\n",
    "    {'params': other_params, 'lr': 1e-5}\n",
    "], lr=1e-4)\n",
    "\n",
    "resnet2 = resnet2.to(device)\n",
    "\n",
    "loss_fn2 = nn.BCEWithLogitsLoss()\n",
    "\n",
    "\n",
    "exp_lr_scheduler = lr_scheduler.StepLR(optimizer3, step_size=7, gamma=0.1)\n"
   ],
   "metadata": {
    "collapsed": false,
    "ExecuteTime": {
     "end_time": "2024-01-01T20:51:16.735638Z",
     "start_time": "2024-01-01T20:51:16.305321Z"
    }
   },
   "id": "7d4c24745d9482c4"
  },
  {
   "cell_type": "code",
   "execution_count": 49,
   "outputs": [
    {
     "ename": "NameError",
     "evalue": "name 'optimizer3' is not defined",
     "output_type": "error",
     "traceback": [
      "\u001B[0;31m---------------------------------------------------------------------------\u001B[0m",
      "\u001B[0;31mNameError\u001B[0m                                 Traceback (most recent call last)",
      "Cell \u001B[0;32mIn[49], line 1\u001B[0m\n\u001B[0;32m----> 1\u001B[0m resnet2, acc \u001B[38;5;241m=\u001B[39m train_model(resnet2, loss_fn2, optimizer3, exp_lr_scheduler, num_epochs \u001B[38;5;241m=\u001B[39m \u001B[38;5;241m25\u001B[39m)\n",
      "\u001B[0;31mNameError\u001B[0m: name 'optimizer3' is not defined"
     ]
    }
   ],
   "source": [
    "resnet2, acc = train_model(resnet2, loss_fn2, optimizer3, exp_lr_scheduler, num_epochs = 25) #gamma 1, 0.5"
   ],
   "metadata": {
    "collapsed": false,
    "ExecuteTime": {
     "end_time": "2023-12-31T18:25:25.374428Z",
     "start_time": "2023-12-31T18:25:25.369238Z"
    }
   },
   "id": "a1b51546c56a188c"
  },
  {
   "cell_type": "code",
   "execution_count": 121,
   "outputs": [
    {
     "name": "stdout",
     "output_type": "stream",
     "text": [
      "Inception3(\n",
      "  (Conv2d_1a_3x3): BasicConv2d(\n",
      "    (conv): Conv2d(3, 32, kernel_size=(3, 3), stride=(2, 2), bias=False)\n",
      "    (bn): BatchNorm2d(32, eps=0.001, momentum=0.1, affine=True, track_running_stats=True)\n",
      "  )\n",
      "  (Conv2d_2a_3x3): BasicConv2d(\n",
      "    (conv): Conv2d(32, 32, kernel_size=(3, 3), stride=(1, 1), bias=False)\n",
      "    (bn): BatchNorm2d(32, eps=0.001, momentum=0.1, affine=True, track_running_stats=True)\n",
      "  )\n",
      "  (Conv2d_2b_3x3): BasicConv2d(\n",
      "    (conv): Conv2d(32, 64, kernel_size=(3, 3), stride=(1, 1), padding=(1, 1), bias=False)\n",
      "    (bn): BatchNorm2d(64, eps=0.001, momentum=0.1, affine=True, track_running_stats=True)\n",
      "  )\n",
      "  (maxpool1): MaxPool2d(kernel_size=3, stride=2, padding=0, dilation=1, ceil_mode=False)\n",
      "  (Conv2d_3b_1x1): BasicConv2d(\n",
      "    (conv): Conv2d(64, 80, kernel_size=(1, 1), stride=(1, 1), bias=False)\n",
      "    (bn): BatchNorm2d(80, eps=0.001, momentum=0.1, affine=True, track_running_stats=True)\n",
      "  )\n",
      "  (Conv2d_4a_3x3): BasicConv2d(\n",
      "    (conv): Conv2d(80, 192, kernel_size=(3, 3), stride=(1, 1), bias=False)\n",
      "    (bn): BatchNorm2d(192, eps=0.001, momentum=0.1, affine=True, track_running_stats=True)\n",
      "  )\n",
      "  (maxpool2): MaxPool2d(kernel_size=3, stride=2, padding=0, dilation=1, ceil_mode=False)\n",
      "  (Mixed_5b): InceptionA(\n",
      "    (branch1x1): BasicConv2d(\n",
      "      (conv): Conv2d(192, 64, kernel_size=(1, 1), stride=(1, 1), bias=False)\n",
      "      (bn): BatchNorm2d(64, eps=0.001, momentum=0.1, affine=True, track_running_stats=True)\n",
      "    )\n",
      "    (branch5x5_1): BasicConv2d(\n",
      "      (conv): Conv2d(192, 48, kernel_size=(1, 1), stride=(1, 1), bias=False)\n",
      "      (bn): BatchNorm2d(48, eps=0.001, momentum=0.1, affine=True, track_running_stats=True)\n",
      "    )\n",
      "    (branch5x5_2): BasicConv2d(\n",
      "      (conv): Conv2d(48, 64, kernel_size=(5, 5), stride=(1, 1), padding=(2, 2), bias=False)\n",
      "      (bn): BatchNorm2d(64, eps=0.001, momentum=0.1, affine=True, track_running_stats=True)\n",
      "    )\n",
      "    (branch3x3dbl_1): BasicConv2d(\n",
      "      (conv): Conv2d(192, 64, kernel_size=(1, 1), stride=(1, 1), bias=False)\n",
      "      (bn): BatchNorm2d(64, eps=0.001, momentum=0.1, affine=True, track_running_stats=True)\n",
      "    )\n",
      "    (branch3x3dbl_2): BasicConv2d(\n",
      "      (conv): Conv2d(64, 96, kernel_size=(3, 3), stride=(1, 1), padding=(1, 1), bias=False)\n",
      "      (bn): BatchNorm2d(96, eps=0.001, momentum=0.1, affine=True, track_running_stats=True)\n",
      "    )\n",
      "    (branch3x3dbl_3): BasicConv2d(\n",
      "      (conv): Conv2d(96, 96, kernel_size=(3, 3), stride=(1, 1), padding=(1, 1), bias=False)\n",
      "      (bn): BatchNorm2d(96, eps=0.001, momentum=0.1, affine=True, track_running_stats=True)\n",
      "    )\n",
      "    (branch_pool): BasicConv2d(\n",
      "      (conv): Conv2d(192, 32, kernel_size=(1, 1), stride=(1, 1), bias=False)\n",
      "      (bn): BatchNorm2d(32, eps=0.001, momentum=0.1, affine=True, track_running_stats=True)\n",
      "    )\n",
      "  )\n",
      "  (Mixed_5c): InceptionA(\n",
      "    (branch1x1): BasicConv2d(\n",
      "      (conv): Conv2d(256, 64, kernel_size=(1, 1), stride=(1, 1), bias=False)\n",
      "      (bn): BatchNorm2d(64, eps=0.001, momentum=0.1, affine=True, track_running_stats=True)\n",
      "    )\n",
      "    (branch5x5_1): BasicConv2d(\n",
      "      (conv): Conv2d(256, 48, kernel_size=(1, 1), stride=(1, 1), bias=False)\n",
      "      (bn): BatchNorm2d(48, eps=0.001, momentum=0.1, affine=True, track_running_stats=True)\n",
      "    )\n",
      "    (branch5x5_2): BasicConv2d(\n",
      "      (conv): Conv2d(48, 64, kernel_size=(5, 5), stride=(1, 1), padding=(2, 2), bias=False)\n",
      "      (bn): BatchNorm2d(64, eps=0.001, momentum=0.1, affine=True, track_running_stats=True)\n",
      "    )\n",
      "    (branch3x3dbl_1): BasicConv2d(\n",
      "      (conv): Conv2d(256, 64, kernel_size=(1, 1), stride=(1, 1), bias=False)\n",
      "      (bn): BatchNorm2d(64, eps=0.001, momentum=0.1, affine=True, track_running_stats=True)\n",
      "    )\n",
      "    (branch3x3dbl_2): BasicConv2d(\n",
      "      (conv): Conv2d(64, 96, kernel_size=(3, 3), stride=(1, 1), padding=(1, 1), bias=False)\n",
      "      (bn): BatchNorm2d(96, eps=0.001, momentum=0.1, affine=True, track_running_stats=True)\n",
      "    )\n",
      "    (branch3x3dbl_3): BasicConv2d(\n",
      "      (conv): Conv2d(96, 96, kernel_size=(3, 3), stride=(1, 1), padding=(1, 1), bias=False)\n",
      "      (bn): BatchNorm2d(96, eps=0.001, momentum=0.1, affine=True, track_running_stats=True)\n",
      "    )\n",
      "    (branch_pool): BasicConv2d(\n",
      "      (conv): Conv2d(256, 64, kernel_size=(1, 1), stride=(1, 1), bias=False)\n",
      "      (bn): BatchNorm2d(64, eps=0.001, momentum=0.1, affine=True, track_running_stats=True)\n",
      "    )\n",
      "  )\n",
      "  (Mixed_5d): InceptionA(\n",
      "    (branch1x1): BasicConv2d(\n",
      "      (conv): Conv2d(288, 64, kernel_size=(1, 1), stride=(1, 1), bias=False)\n",
      "      (bn): BatchNorm2d(64, eps=0.001, momentum=0.1, affine=True, track_running_stats=True)\n",
      "    )\n",
      "    (branch5x5_1): BasicConv2d(\n",
      "      (conv): Conv2d(288, 48, kernel_size=(1, 1), stride=(1, 1), bias=False)\n",
      "      (bn): BatchNorm2d(48, eps=0.001, momentum=0.1, affine=True, track_running_stats=True)\n",
      "    )\n",
      "    (branch5x5_2): BasicConv2d(\n",
      "      (conv): Conv2d(48, 64, kernel_size=(5, 5), stride=(1, 1), padding=(2, 2), bias=False)\n",
      "      (bn): BatchNorm2d(64, eps=0.001, momentum=0.1, affine=True, track_running_stats=True)\n",
      "    )\n",
      "    (branch3x3dbl_1): BasicConv2d(\n",
      "      (conv): Conv2d(288, 64, kernel_size=(1, 1), stride=(1, 1), bias=False)\n",
      "      (bn): BatchNorm2d(64, eps=0.001, momentum=0.1, affine=True, track_running_stats=True)\n",
      "    )\n",
      "    (branch3x3dbl_2): BasicConv2d(\n",
      "      (conv): Conv2d(64, 96, kernel_size=(3, 3), stride=(1, 1), padding=(1, 1), bias=False)\n",
      "      (bn): BatchNorm2d(96, eps=0.001, momentum=0.1, affine=True, track_running_stats=True)\n",
      "    )\n",
      "    (branch3x3dbl_3): BasicConv2d(\n",
      "      (conv): Conv2d(96, 96, kernel_size=(3, 3), stride=(1, 1), padding=(1, 1), bias=False)\n",
      "      (bn): BatchNorm2d(96, eps=0.001, momentum=0.1, affine=True, track_running_stats=True)\n",
      "    )\n",
      "    (branch_pool): BasicConv2d(\n",
      "      (conv): Conv2d(288, 64, kernel_size=(1, 1), stride=(1, 1), bias=False)\n",
      "      (bn): BatchNorm2d(64, eps=0.001, momentum=0.1, affine=True, track_running_stats=True)\n",
      "    )\n",
      "  )\n",
      "  (Mixed_6a): InceptionB(\n",
      "    (branch3x3): BasicConv2d(\n",
      "      (conv): Conv2d(288, 384, kernel_size=(3, 3), stride=(2, 2), bias=False)\n",
      "      (bn): BatchNorm2d(384, eps=0.001, momentum=0.1, affine=True, track_running_stats=True)\n",
      "    )\n",
      "    (branch3x3dbl_1): BasicConv2d(\n",
      "      (conv): Conv2d(288, 64, kernel_size=(1, 1), stride=(1, 1), bias=False)\n",
      "      (bn): BatchNorm2d(64, eps=0.001, momentum=0.1, affine=True, track_running_stats=True)\n",
      "    )\n",
      "    (branch3x3dbl_2): BasicConv2d(\n",
      "      (conv): Conv2d(64, 96, kernel_size=(3, 3), stride=(1, 1), padding=(1, 1), bias=False)\n",
      "      (bn): BatchNorm2d(96, eps=0.001, momentum=0.1, affine=True, track_running_stats=True)\n",
      "    )\n",
      "    (branch3x3dbl_3): BasicConv2d(\n",
      "      (conv): Conv2d(96, 96, kernel_size=(3, 3), stride=(2, 2), bias=False)\n",
      "      (bn): BatchNorm2d(96, eps=0.001, momentum=0.1, affine=True, track_running_stats=True)\n",
      "    )\n",
      "  )\n",
      "  (Mixed_6b): InceptionC(\n",
      "    (branch1x1): BasicConv2d(\n",
      "      (conv): Conv2d(768, 192, kernel_size=(1, 1), stride=(1, 1), bias=False)\n",
      "      (bn): BatchNorm2d(192, eps=0.001, momentum=0.1, affine=True, track_running_stats=True)\n",
      "    )\n",
      "    (branch7x7_1): BasicConv2d(\n",
      "      (conv): Conv2d(768, 128, kernel_size=(1, 1), stride=(1, 1), bias=False)\n",
      "      (bn): BatchNorm2d(128, eps=0.001, momentum=0.1, affine=True, track_running_stats=True)\n",
      "    )\n",
      "    (branch7x7_2): BasicConv2d(\n",
      "      (conv): Conv2d(128, 128, kernel_size=(1, 7), stride=(1, 1), padding=(0, 3), bias=False)\n",
      "      (bn): BatchNorm2d(128, eps=0.001, momentum=0.1, affine=True, track_running_stats=True)\n",
      "    )\n",
      "    (branch7x7_3): BasicConv2d(\n",
      "      (conv): Conv2d(128, 192, kernel_size=(7, 1), stride=(1, 1), padding=(3, 0), bias=False)\n",
      "      (bn): BatchNorm2d(192, eps=0.001, momentum=0.1, affine=True, track_running_stats=True)\n",
      "    )\n",
      "    (branch7x7dbl_1): BasicConv2d(\n",
      "      (conv): Conv2d(768, 128, kernel_size=(1, 1), stride=(1, 1), bias=False)\n",
      "      (bn): BatchNorm2d(128, eps=0.001, momentum=0.1, affine=True, track_running_stats=True)\n",
      "    )\n",
      "    (branch7x7dbl_2): BasicConv2d(\n",
      "      (conv): Conv2d(128, 128, kernel_size=(7, 1), stride=(1, 1), padding=(3, 0), bias=False)\n",
      "      (bn): BatchNorm2d(128, eps=0.001, momentum=0.1, affine=True, track_running_stats=True)\n",
      "    )\n",
      "    (branch7x7dbl_3): BasicConv2d(\n",
      "      (conv): Conv2d(128, 128, kernel_size=(1, 7), stride=(1, 1), padding=(0, 3), bias=False)\n",
      "      (bn): BatchNorm2d(128, eps=0.001, momentum=0.1, affine=True, track_running_stats=True)\n",
      "    )\n",
      "    (branch7x7dbl_4): BasicConv2d(\n",
      "      (conv): Conv2d(128, 128, kernel_size=(7, 1), stride=(1, 1), padding=(3, 0), bias=False)\n",
      "      (bn): BatchNorm2d(128, eps=0.001, momentum=0.1, affine=True, track_running_stats=True)\n",
      "    )\n",
      "    (branch7x7dbl_5): BasicConv2d(\n",
      "      (conv): Conv2d(128, 192, kernel_size=(1, 7), stride=(1, 1), padding=(0, 3), bias=False)\n",
      "      (bn): BatchNorm2d(192, eps=0.001, momentum=0.1, affine=True, track_running_stats=True)\n",
      "    )\n",
      "    (branch_pool): BasicConv2d(\n",
      "      (conv): Conv2d(768, 192, kernel_size=(1, 1), stride=(1, 1), bias=False)\n",
      "      (bn): BatchNorm2d(192, eps=0.001, momentum=0.1, affine=True, track_running_stats=True)\n",
      "    )\n",
      "  )\n",
      "  (Mixed_6c): InceptionC(\n",
      "    (branch1x1): BasicConv2d(\n",
      "      (conv): Conv2d(768, 192, kernel_size=(1, 1), stride=(1, 1), bias=False)\n",
      "      (bn): BatchNorm2d(192, eps=0.001, momentum=0.1, affine=True, track_running_stats=True)\n",
      "    )\n",
      "    (branch7x7_1): BasicConv2d(\n",
      "      (conv): Conv2d(768, 160, kernel_size=(1, 1), stride=(1, 1), bias=False)\n",
      "      (bn): BatchNorm2d(160, eps=0.001, momentum=0.1, affine=True, track_running_stats=True)\n",
      "    )\n",
      "    (branch7x7_2): BasicConv2d(\n",
      "      (conv): Conv2d(160, 160, kernel_size=(1, 7), stride=(1, 1), padding=(0, 3), bias=False)\n",
      "      (bn): BatchNorm2d(160, eps=0.001, momentum=0.1, affine=True, track_running_stats=True)\n",
      "    )\n",
      "    (branch7x7_3): BasicConv2d(\n",
      "      (conv): Conv2d(160, 192, kernel_size=(7, 1), stride=(1, 1), padding=(3, 0), bias=False)\n",
      "      (bn): BatchNorm2d(192, eps=0.001, momentum=0.1, affine=True, track_running_stats=True)\n",
      "    )\n",
      "    (branch7x7dbl_1): BasicConv2d(\n",
      "      (conv): Conv2d(768, 160, kernel_size=(1, 1), stride=(1, 1), bias=False)\n",
      "      (bn): BatchNorm2d(160, eps=0.001, momentum=0.1, affine=True, track_running_stats=True)\n",
      "    )\n",
      "    (branch7x7dbl_2): BasicConv2d(\n",
      "      (conv): Conv2d(160, 160, kernel_size=(7, 1), stride=(1, 1), padding=(3, 0), bias=False)\n",
      "      (bn): BatchNorm2d(160, eps=0.001, momentum=0.1, affine=True, track_running_stats=True)\n",
      "    )\n",
      "    (branch7x7dbl_3): BasicConv2d(\n",
      "      (conv): Conv2d(160, 160, kernel_size=(1, 7), stride=(1, 1), padding=(0, 3), bias=False)\n",
      "      (bn): BatchNorm2d(160, eps=0.001, momentum=0.1, affine=True, track_running_stats=True)\n",
      "    )\n",
      "    (branch7x7dbl_4): BasicConv2d(\n",
      "      (conv): Conv2d(160, 160, kernel_size=(7, 1), stride=(1, 1), padding=(3, 0), bias=False)\n",
      "      (bn): BatchNorm2d(160, eps=0.001, momentum=0.1, affine=True, track_running_stats=True)\n",
      "    )\n",
      "    (branch7x7dbl_5): BasicConv2d(\n",
      "      (conv): Conv2d(160, 192, kernel_size=(1, 7), stride=(1, 1), padding=(0, 3), bias=False)\n",
      "      (bn): BatchNorm2d(192, eps=0.001, momentum=0.1, affine=True, track_running_stats=True)\n",
      "    )\n",
      "    (branch_pool): BasicConv2d(\n",
      "      (conv): Conv2d(768, 192, kernel_size=(1, 1), stride=(1, 1), bias=False)\n",
      "      (bn): BatchNorm2d(192, eps=0.001, momentum=0.1, affine=True, track_running_stats=True)\n",
      "    )\n",
      "  )\n",
      "  (Mixed_6d): InceptionC(\n",
      "    (branch1x1): BasicConv2d(\n",
      "      (conv): Conv2d(768, 192, kernel_size=(1, 1), stride=(1, 1), bias=False)\n",
      "      (bn): BatchNorm2d(192, eps=0.001, momentum=0.1, affine=True, track_running_stats=True)\n",
      "    )\n",
      "    (branch7x7_1): BasicConv2d(\n",
      "      (conv): Conv2d(768, 160, kernel_size=(1, 1), stride=(1, 1), bias=False)\n",
      "      (bn): BatchNorm2d(160, eps=0.001, momentum=0.1, affine=True, track_running_stats=True)\n",
      "    )\n",
      "    (branch7x7_2): BasicConv2d(\n",
      "      (conv): Conv2d(160, 160, kernel_size=(1, 7), stride=(1, 1), padding=(0, 3), bias=False)\n",
      "      (bn): BatchNorm2d(160, eps=0.001, momentum=0.1, affine=True, track_running_stats=True)\n",
      "    )\n",
      "    (branch7x7_3): BasicConv2d(\n",
      "      (conv): Conv2d(160, 192, kernel_size=(7, 1), stride=(1, 1), padding=(3, 0), bias=False)\n",
      "      (bn): BatchNorm2d(192, eps=0.001, momentum=0.1, affine=True, track_running_stats=True)\n",
      "    )\n",
      "    (branch7x7dbl_1): BasicConv2d(\n",
      "      (conv): Conv2d(768, 160, kernel_size=(1, 1), stride=(1, 1), bias=False)\n",
      "      (bn): BatchNorm2d(160, eps=0.001, momentum=0.1, affine=True, track_running_stats=True)\n",
      "    )\n",
      "    (branch7x7dbl_2): BasicConv2d(\n",
      "      (conv): Conv2d(160, 160, kernel_size=(7, 1), stride=(1, 1), padding=(3, 0), bias=False)\n",
      "      (bn): BatchNorm2d(160, eps=0.001, momentum=0.1, affine=True, track_running_stats=True)\n",
      "    )\n",
      "    (branch7x7dbl_3): BasicConv2d(\n",
      "      (conv): Conv2d(160, 160, kernel_size=(1, 7), stride=(1, 1), padding=(0, 3), bias=False)\n",
      "      (bn): BatchNorm2d(160, eps=0.001, momentum=0.1, affine=True, track_running_stats=True)\n",
      "    )\n",
      "    (branch7x7dbl_4): BasicConv2d(\n",
      "      (conv): Conv2d(160, 160, kernel_size=(7, 1), stride=(1, 1), padding=(3, 0), bias=False)\n",
      "      (bn): BatchNorm2d(160, eps=0.001, momentum=0.1, affine=True, track_running_stats=True)\n",
      "    )\n",
      "    (branch7x7dbl_5): BasicConv2d(\n",
      "      (conv): Conv2d(160, 192, kernel_size=(1, 7), stride=(1, 1), padding=(0, 3), bias=False)\n",
      "      (bn): BatchNorm2d(192, eps=0.001, momentum=0.1, affine=True, track_running_stats=True)\n",
      "    )\n",
      "    (branch_pool): BasicConv2d(\n",
      "      (conv): Conv2d(768, 192, kernel_size=(1, 1), stride=(1, 1), bias=False)\n",
      "      (bn): BatchNorm2d(192, eps=0.001, momentum=0.1, affine=True, track_running_stats=True)\n",
      "    )\n",
      "  )\n",
      "  (Mixed_6e): InceptionC(\n",
      "    (branch1x1): BasicConv2d(\n",
      "      (conv): Conv2d(768, 192, kernel_size=(1, 1), stride=(1, 1), bias=False)\n",
      "      (bn): BatchNorm2d(192, eps=0.001, momentum=0.1, affine=True, track_running_stats=True)\n",
      "    )\n",
      "    (branch7x7_1): BasicConv2d(\n",
      "      (conv): Conv2d(768, 192, kernel_size=(1, 1), stride=(1, 1), bias=False)\n",
      "      (bn): BatchNorm2d(192, eps=0.001, momentum=0.1, affine=True, track_running_stats=True)\n",
      "    )\n",
      "    (branch7x7_2): BasicConv2d(\n",
      "      (conv): Conv2d(192, 192, kernel_size=(1, 7), stride=(1, 1), padding=(0, 3), bias=False)\n",
      "      (bn): BatchNorm2d(192, eps=0.001, momentum=0.1, affine=True, track_running_stats=True)\n",
      "    )\n",
      "    (branch7x7_3): BasicConv2d(\n",
      "      (conv): Conv2d(192, 192, kernel_size=(7, 1), stride=(1, 1), padding=(3, 0), bias=False)\n",
      "      (bn): BatchNorm2d(192, eps=0.001, momentum=0.1, affine=True, track_running_stats=True)\n",
      "    )\n",
      "    (branch7x7dbl_1): BasicConv2d(\n",
      "      (conv): Conv2d(768, 192, kernel_size=(1, 1), stride=(1, 1), bias=False)\n",
      "      (bn): BatchNorm2d(192, eps=0.001, momentum=0.1, affine=True, track_running_stats=True)\n",
      "    )\n",
      "    (branch7x7dbl_2): BasicConv2d(\n",
      "      (conv): Conv2d(192, 192, kernel_size=(7, 1), stride=(1, 1), padding=(3, 0), bias=False)\n",
      "      (bn): BatchNorm2d(192, eps=0.001, momentum=0.1, affine=True, track_running_stats=True)\n",
      "    )\n",
      "    (branch7x7dbl_3): BasicConv2d(\n",
      "      (conv): Conv2d(192, 192, kernel_size=(1, 7), stride=(1, 1), padding=(0, 3), bias=False)\n",
      "      (bn): BatchNorm2d(192, eps=0.001, momentum=0.1, affine=True, track_running_stats=True)\n",
      "    )\n",
      "    (branch7x7dbl_4): BasicConv2d(\n",
      "      (conv): Conv2d(192, 192, kernel_size=(7, 1), stride=(1, 1), padding=(3, 0), bias=False)\n",
      "      (bn): BatchNorm2d(192, eps=0.001, momentum=0.1, affine=True, track_running_stats=True)\n",
      "    )\n",
      "    (branch7x7dbl_5): BasicConv2d(\n",
      "      (conv): Conv2d(192, 192, kernel_size=(1, 7), stride=(1, 1), padding=(0, 3), bias=False)\n",
      "      (bn): BatchNorm2d(192, eps=0.001, momentum=0.1, affine=True, track_running_stats=True)\n",
      "    )\n",
      "    (branch_pool): BasicConv2d(\n",
      "      (conv): Conv2d(768, 192, kernel_size=(1, 1), stride=(1, 1), bias=False)\n",
      "      (bn): BatchNorm2d(192, eps=0.001, momentum=0.1, affine=True, track_running_stats=True)\n",
      "    )\n",
      "  )\n",
      "  (AuxLogits): InceptionAux(\n",
      "    (conv0): BasicConv2d(\n",
      "      (conv): Conv2d(768, 128, kernel_size=(1, 1), stride=(1, 1), bias=False)\n",
      "      (bn): BatchNorm2d(128, eps=0.001, momentum=0.1, affine=True, track_running_stats=True)\n",
      "    )\n",
      "    (conv1): BasicConv2d(\n",
      "      (conv): Conv2d(128, 768, kernel_size=(5, 5), stride=(1, 1), bias=False)\n",
      "      (bn): BatchNorm2d(768, eps=0.001, momentum=0.1, affine=True, track_running_stats=True)\n",
      "    )\n",
      "    (fc): Linear(in_features=768, out_features=1000, bias=True)\n",
      "  )\n",
      "  (Mixed_7a): InceptionD(\n",
      "    (branch3x3_1): BasicConv2d(\n",
      "      (conv): Conv2d(768, 192, kernel_size=(1, 1), stride=(1, 1), bias=False)\n",
      "      (bn): BatchNorm2d(192, eps=0.001, momentum=0.1, affine=True, track_running_stats=True)\n",
      "    )\n",
      "    (branch3x3_2): BasicConv2d(\n",
      "      (conv): Conv2d(192, 320, kernel_size=(3, 3), stride=(2, 2), bias=False)\n",
      "      (bn): BatchNorm2d(320, eps=0.001, momentum=0.1, affine=True, track_running_stats=True)\n",
      "    )\n",
      "    (branch7x7x3_1): BasicConv2d(\n",
      "      (conv): Conv2d(768, 192, kernel_size=(1, 1), stride=(1, 1), bias=False)\n",
      "      (bn): BatchNorm2d(192, eps=0.001, momentum=0.1, affine=True, track_running_stats=True)\n",
      "    )\n",
      "    (branch7x7x3_2): BasicConv2d(\n",
      "      (conv): Conv2d(192, 192, kernel_size=(1, 7), stride=(1, 1), padding=(0, 3), bias=False)\n",
      "      (bn): BatchNorm2d(192, eps=0.001, momentum=0.1, affine=True, track_running_stats=True)\n",
      "    )\n",
      "    (branch7x7x3_3): BasicConv2d(\n",
      "      (conv): Conv2d(192, 192, kernel_size=(7, 1), stride=(1, 1), padding=(3, 0), bias=False)\n",
      "      (bn): BatchNorm2d(192, eps=0.001, momentum=0.1, affine=True, track_running_stats=True)\n",
      "    )\n",
      "    (branch7x7x3_4): BasicConv2d(\n",
      "      (conv): Conv2d(192, 192, kernel_size=(3, 3), stride=(2, 2), bias=False)\n",
      "      (bn): BatchNorm2d(192, eps=0.001, momentum=0.1, affine=True, track_running_stats=True)\n",
      "    )\n",
      "  )\n",
      "  (Mixed_7b): InceptionE(\n",
      "    (branch1x1): BasicConv2d(\n",
      "      (conv): Conv2d(1280, 320, kernel_size=(1, 1), stride=(1, 1), bias=False)\n",
      "      (bn): BatchNorm2d(320, eps=0.001, momentum=0.1, affine=True, track_running_stats=True)\n",
      "    )\n",
      "    (branch3x3_1): BasicConv2d(\n",
      "      (conv): Conv2d(1280, 384, kernel_size=(1, 1), stride=(1, 1), bias=False)\n",
      "      (bn): BatchNorm2d(384, eps=0.001, momentum=0.1, affine=True, track_running_stats=True)\n",
      "    )\n",
      "    (branch3x3_2a): BasicConv2d(\n",
      "      (conv): Conv2d(384, 384, kernel_size=(1, 3), stride=(1, 1), padding=(0, 1), bias=False)\n",
      "      (bn): BatchNorm2d(384, eps=0.001, momentum=0.1, affine=True, track_running_stats=True)\n",
      "    )\n",
      "    (branch3x3_2b): BasicConv2d(\n",
      "      (conv): Conv2d(384, 384, kernel_size=(3, 1), stride=(1, 1), padding=(1, 0), bias=False)\n",
      "      (bn): BatchNorm2d(384, eps=0.001, momentum=0.1, affine=True, track_running_stats=True)\n",
      "    )\n",
      "    (branch3x3dbl_1): BasicConv2d(\n",
      "      (conv): Conv2d(1280, 448, kernel_size=(1, 1), stride=(1, 1), bias=False)\n",
      "      (bn): BatchNorm2d(448, eps=0.001, momentum=0.1, affine=True, track_running_stats=True)\n",
      "    )\n",
      "    (branch3x3dbl_2): BasicConv2d(\n",
      "      (conv): Conv2d(448, 384, kernel_size=(3, 3), stride=(1, 1), padding=(1, 1), bias=False)\n",
      "      (bn): BatchNorm2d(384, eps=0.001, momentum=0.1, affine=True, track_running_stats=True)\n",
      "    )\n",
      "    (branch3x3dbl_3a): BasicConv2d(\n",
      "      (conv): Conv2d(384, 384, kernel_size=(1, 3), stride=(1, 1), padding=(0, 1), bias=False)\n",
      "      (bn): BatchNorm2d(384, eps=0.001, momentum=0.1, affine=True, track_running_stats=True)\n",
      "    )\n",
      "    (branch3x3dbl_3b): BasicConv2d(\n",
      "      (conv): Conv2d(384, 384, kernel_size=(3, 1), stride=(1, 1), padding=(1, 0), bias=False)\n",
      "      (bn): BatchNorm2d(384, eps=0.001, momentum=0.1, affine=True, track_running_stats=True)\n",
      "    )\n",
      "    (branch_pool): BasicConv2d(\n",
      "      (conv): Conv2d(1280, 192, kernel_size=(1, 1), stride=(1, 1), bias=False)\n",
      "      (bn): BatchNorm2d(192, eps=0.001, momentum=0.1, affine=True, track_running_stats=True)\n",
      "    )\n",
      "  )\n",
      "  (Mixed_7c): InceptionE(\n",
      "    (branch1x1): BasicConv2d(\n",
      "      (conv): Conv2d(2048, 320, kernel_size=(1, 1), stride=(1, 1), bias=False)\n",
      "      (bn): BatchNorm2d(320, eps=0.001, momentum=0.1, affine=True, track_running_stats=True)\n",
      "    )\n",
      "    (branch3x3_1): BasicConv2d(\n",
      "      (conv): Conv2d(2048, 384, kernel_size=(1, 1), stride=(1, 1), bias=False)\n",
      "      (bn): BatchNorm2d(384, eps=0.001, momentum=0.1, affine=True, track_running_stats=True)\n",
      "    )\n",
      "    (branch3x3_2a): BasicConv2d(\n",
      "      (conv): Conv2d(384, 384, kernel_size=(1, 3), stride=(1, 1), padding=(0, 1), bias=False)\n",
      "      (bn): BatchNorm2d(384, eps=0.001, momentum=0.1, affine=True, track_running_stats=True)\n",
      "    )\n",
      "    (branch3x3_2b): BasicConv2d(\n",
      "      (conv): Conv2d(384, 384, kernel_size=(3, 1), stride=(1, 1), padding=(1, 0), bias=False)\n",
      "      (bn): BatchNorm2d(384, eps=0.001, momentum=0.1, affine=True, track_running_stats=True)\n",
      "    )\n",
      "    (branch3x3dbl_1): BasicConv2d(\n",
      "      (conv): Conv2d(2048, 448, kernel_size=(1, 1), stride=(1, 1), bias=False)\n",
      "      (bn): BatchNorm2d(448, eps=0.001, momentum=0.1, affine=True, track_running_stats=True)\n",
      "    )\n",
      "    (branch3x3dbl_2): BasicConv2d(\n",
      "      (conv): Conv2d(448, 384, kernel_size=(3, 3), stride=(1, 1), padding=(1, 1), bias=False)\n",
      "      (bn): BatchNorm2d(384, eps=0.001, momentum=0.1, affine=True, track_running_stats=True)\n",
      "    )\n",
      "    (branch3x3dbl_3a): BasicConv2d(\n",
      "      (conv): Conv2d(384, 384, kernel_size=(1, 3), stride=(1, 1), padding=(0, 1), bias=False)\n",
      "      (bn): BatchNorm2d(384, eps=0.001, momentum=0.1, affine=True, track_running_stats=True)\n",
      "    )\n",
      "    (branch3x3dbl_3b): BasicConv2d(\n",
      "      (conv): Conv2d(384, 384, kernel_size=(3, 1), stride=(1, 1), padding=(1, 0), bias=False)\n",
      "      (bn): BatchNorm2d(384, eps=0.001, momentum=0.1, affine=True, track_running_stats=True)\n",
      "    )\n",
      "    (branch_pool): BasicConv2d(\n",
      "      (conv): Conv2d(2048, 192, kernel_size=(1, 1), stride=(1, 1), bias=False)\n",
      "      (bn): BatchNorm2d(192, eps=0.001, momentum=0.1, affine=True, track_running_stats=True)\n",
      "    )\n",
      "  )\n",
      "  (avgpool): AdaptiveAvgPool2d(output_size=(1, 1))\n",
      "  (dropout): Dropout(p=0.5, inplace=False)\n",
      "  (fc): Linear(in_features=2048, out_features=1000, bias=True)\n",
      ")\n"
     ]
    }
   ],
   "source": [
    "googleNet = models.inception_v3(pretrained = True)\n",
    "print(googleNet)\n",
    "for param in googleNet.parameters():\n",
    "    param.requires_grad = False\n",
    "\n",
    "num_features = googleNet.fc.in_features\n",
    "\n",
    "googleNet.fc = nn.Sequential(\n",
    "    nn.Linear(2048, 1),\n",
    "    nn.Sigmoid()\n",
    ")\n",
    "\n",
    "\n",
    "num_features = 25088\n",
    "# googleNet.classifier[-1] = nn.Sequential(\n",
    "#     nn.Linear(num_features, 1),\n",
    "#     nn.Sigmoid()\n",
    "# )\n",
    "        \n",
    "\n",
    "googleNet = googleNet.to(device)\n",
    "\n",
    "loss_fn2 = torch.nn.BCEWithLogitsLoss()\n",
    "\n",
    "optimizer2 = optim.Adam(googleNet.parameters(), lr=1e-4)\n",
    "\n",
    "exp_lr_scheduler = lr_scheduler.StepLR(optimizer2, step_size=7, gamma=0.1) #e-4, 0.1 = 65,6"
   ],
   "metadata": {
    "collapsed": false,
    "ExecuteTime": {
     "end_time": "2024-01-01T20:55:10.491750Z",
     "start_time": "2024-01-01T20:55:10.188907Z"
    }
   },
   "id": "a1a6c91aa1f822cd"
  },
  {
   "cell_type": "code",
   "execution_count": 122,
   "outputs": [
    {
     "name": "stderr",
     "output_type": "stream",
     "text": [
      "/var/folders/k2/rg_zc5tn7j79wyy5g9q0kc_h0000gn/T/ipykernel_15621/4075259936.py:12: TqdmDeprecationWarning: This function will be removed in tqdm==5.0.0\n",
      "Please use `tqdm.notebook.tqdm` instead of `tqdm.tqdm_notebook`\n",
      "  for epoch in tqdm_notebook(range(num_epochs)):\n"
     ]
    },
    {
     "data": {
      "text/plain": "  0%|          | 0/25 [00:00<?, ?it/s]",
      "application/vnd.jupyter.widget-view+json": {
       "version_major": 2,
       "version_minor": 0,
       "model_id": "7359c4e31852438e9737e8705feee01e"
      }
     },
     "metadata": {},
     "output_type": "display_data"
    },
    {
     "name": "stderr",
     "output_type": "stream",
     "text": [
      "/var/folders/k2/rg_zc5tn7j79wyy5g9q0kc_h0000gn/T/ipykernel_15621/4075259936.py:18: TqdmDeprecationWarning: This function will be removed in tqdm==5.0.0\n",
      "Please use `tqdm.notebook.tqdm` instead of `tqdm.tqdm_notebook`\n",
      "  for i, batch in enumerate(tqdm_notebook(trainloader)):\n"
     ]
    },
    {
     "data": {
      "text/plain": "  0%|          | 0/116 [00:00<?, ?it/s]",
      "application/vnd.jupyter.widget-view+json": {
       "version_major": 2,
       "version_minor": 0,
       "model_id": "b45346c0606c4fad9990e6396e7891be"
      }
     },
     "metadata": {},
     "output_type": "display_data"
    },
    {
     "ename": "KeyboardInterrupt",
     "evalue": "",
     "output_type": "error",
     "traceback": [
      "\u001B[0;31m---------------------------------------------------------------------------\u001B[0m",
      "\u001B[0;31mKeyboardInterrupt\u001B[0m                         Traceback (most recent call last)",
      "Cell \u001B[0;32mIn[122], line 2\u001B[0m\n\u001B[1;32m      1\u001B[0m googleNet\u001B[38;5;241m.\u001B[39maux_logits \u001B[38;5;241m=\u001B[39m \u001B[38;5;28;01mFalse\u001B[39;00m\n\u001B[0;32m----> 2\u001B[0m googleNet, acc \u001B[38;5;241m=\u001B[39m train_model(googleNet, loss_fn2, optimizer2, exp_lr_scheduler, num_epochs \u001B[38;5;241m=\u001B[39m \u001B[38;5;241m25\u001B[39m)\n",
      "Cell \u001B[0;32mIn[75], line 26\u001B[0m, in \u001B[0;36mtrain_model\u001B[0;34m(model, loss_fn, optimizer, scheduler, num_epochs)\u001B[0m\n\u001B[1;32m     22\u001B[0m X_batch, y_batch \u001B[38;5;241m=\u001B[39m X_batch\u001B[38;5;241m.\u001B[39mto(device), y_batch\u001B[38;5;241m.\u001B[39mto(device)\n\u001B[1;32m     24\u001B[0m optimizer\u001B[38;5;241m.\u001B[39mzero_grad()\n\u001B[0;32m---> 26\u001B[0m y_pred \u001B[38;5;241m=\u001B[39m model(X_batch)\n\u001B[1;32m     28\u001B[0m loss \u001B[38;5;241m=\u001B[39m loss_fn(y_pred, y_batch\u001B[38;5;241m.\u001B[39munsqueeze(\u001B[38;5;241m1\u001B[39m))\n\u001B[1;32m     30\u001B[0m loss\u001B[38;5;241m.\u001B[39mbackward()\n",
      "File \u001B[0;32m/opt/anaconda3/envs/DeepFakesProject/lib/python3.11/site-packages/torch/nn/modules/module.py:1518\u001B[0m, in \u001B[0;36mModule._wrapped_call_impl\u001B[0;34m(self, *args, **kwargs)\u001B[0m\n\u001B[1;32m   1516\u001B[0m     \u001B[38;5;28;01mreturn\u001B[39;00m \u001B[38;5;28mself\u001B[39m\u001B[38;5;241m.\u001B[39m_compiled_call_impl(\u001B[38;5;241m*\u001B[39margs, \u001B[38;5;241m*\u001B[39m\u001B[38;5;241m*\u001B[39mkwargs)  \u001B[38;5;66;03m# type: ignore[misc]\u001B[39;00m\n\u001B[1;32m   1517\u001B[0m \u001B[38;5;28;01melse\u001B[39;00m:\n\u001B[0;32m-> 1518\u001B[0m     \u001B[38;5;28;01mreturn\u001B[39;00m \u001B[38;5;28mself\u001B[39m\u001B[38;5;241m.\u001B[39m_call_impl(\u001B[38;5;241m*\u001B[39margs, \u001B[38;5;241m*\u001B[39m\u001B[38;5;241m*\u001B[39mkwargs)\n",
      "File \u001B[0;32m/opt/anaconda3/envs/DeepFakesProject/lib/python3.11/site-packages/torch/nn/modules/module.py:1527\u001B[0m, in \u001B[0;36mModule._call_impl\u001B[0;34m(self, *args, **kwargs)\u001B[0m\n\u001B[1;32m   1522\u001B[0m \u001B[38;5;66;03m# If we don't have any hooks, we want to skip the rest of the logic in\u001B[39;00m\n\u001B[1;32m   1523\u001B[0m \u001B[38;5;66;03m# this function, and just call forward.\u001B[39;00m\n\u001B[1;32m   1524\u001B[0m \u001B[38;5;28;01mif\u001B[39;00m \u001B[38;5;129;01mnot\u001B[39;00m (\u001B[38;5;28mself\u001B[39m\u001B[38;5;241m.\u001B[39m_backward_hooks \u001B[38;5;129;01mor\u001B[39;00m \u001B[38;5;28mself\u001B[39m\u001B[38;5;241m.\u001B[39m_backward_pre_hooks \u001B[38;5;129;01mor\u001B[39;00m \u001B[38;5;28mself\u001B[39m\u001B[38;5;241m.\u001B[39m_forward_hooks \u001B[38;5;129;01mor\u001B[39;00m \u001B[38;5;28mself\u001B[39m\u001B[38;5;241m.\u001B[39m_forward_pre_hooks\n\u001B[1;32m   1525\u001B[0m         \u001B[38;5;129;01mor\u001B[39;00m _global_backward_pre_hooks \u001B[38;5;129;01mor\u001B[39;00m _global_backward_hooks\n\u001B[1;32m   1526\u001B[0m         \u001B[38;5;129;01mor\u001B[39;00m _global_forward_hooks \u001B[38;5;129;01mor\u001B[39;00m _global_forward_pre_hooks):\n\u001B[0;32m-> 1527\u001B[0m     \u001B[38;5;28;01mreturn\u001B[39;00m forward_call(\u001B[38;5;241m*\u001B[39margs, \u001B[38;5;241m*\u001B[39m\u001B[38;5;241m*\u001B[39mkwargs)\n\u001B[1;32m   1529\u001B[0m \u001B[38;5;28;01mtry\u001B[39;00m:\n\u001B[1;32m   1530\u001B[0m     result \u001B[38;5;241m=\u001B[39m \u001B[38;5;28;01mNone\u001B[39;00m\n",
      "File \u001B[0;32m/opt/anaconda3/envs/DeepFakesProject/lib/python3.11/site-packages/torchvision/models/inception.py:166\u001B[0m, in \u001B[0;36mInception3.forward\u001B[0;34m(self, x)\u001B[0m\n\u001B[1;32m    164\u001B[0m \u001B[38;5;28;01mdef\u001B[39;00m \u001B[38;5;21mforward\u001B[39m(\u001B[38;5;28mself\u001B[39m, x: Tensor) \u001B[38;5;241m-\u001B[39m\u001B[38;5;241m>\u001B[39m InceptionOutputs:\n\u001B[1;32m    165\u001B[0m     x \u001B[38;5;241m=\u001B[39m \u001B[38;5;28mself\u001B[39m\u001B[38;5;241m.\u001B[39m_transform_input(x)\n\u001B[0;32m--> 166\u001B[0m     x, aux \u001B[38;5;241m=\u001B[39m \u001B[38;5;28mself\u001B[39m\u001B[38;5;241m.\u001B[39m_forward(x)\n\u001B[1;32m    167\u001B[0m     aux_defined \u001B[38;5;241m=\u001B[39m \u001B[38;5;28mself\u001B[39m\u001B[38;5;241m.\u001B[39mtraining \u001B[38;5;129;01mand\u001B[39;00m \u001B[38;5;28mself\u001B[39m\u001B[38;5;241m.\u001B[39maux_logits\n\u001B[1;32m    168\u001B[0m     \u001B[38;5;28;01mif\u001B[39;00m torch\u001B[38;5;241m.\u001B[39mjit\u001B[38;5;241m.\u001B[39mis_scripting():\n",
      "File \u001B[0;32m/opt/anaconda3/envs/DeepFakesProject/lib/python3.11/site-packages/torchvision/models/inception.py:142\u001B[0m, in \u001B[0;36mInception3._forward\u001B[0;34m(self, x)\u001B[0m\n\u001B[1;32m    140\u001B[0m x \u001B[38;5;241m=\u001B[39m \u001B[38;5;28mself\u001B[39m\u001B[38;5;241m.\u001B[39mMixed_7a(x)\n\u001B[1;32m    141\u001B[0m \u001B[38;5;66;03m# N x 1280 x 8 x 8\u001B[39;00m\n\u001B[0;32m--> 142\u001B[0m x \u001B[38;5;241m=\u001B[39m \u001B[38;5;28mself\u001B[39m\u001B[38;5;241m.\u001B[39mMixed_7b(x)\n\u001B[1;32m    143\u001B[0m \u001B[38;5;66;03m# N x 2048 x 8 x 8\u001B[39;00m\n\u001B[1;32m    144\u001B[0m x \u001B[38;5;241m=\u001B[39m \u001B[38;5;28mself\u001B[39m\u001B[38;5;241m.\u001B[39mMixed_7c(x)\n",
      "File \u001B[0;32m/opt/anaconda3/envs/DeepFakesProject/lib/python3.11/site-packages/torch/nn/modules/module.py:1518\u001B[0m, in \u001B[0;36mModule._wrapped_call_impl\u001B[0;34m(self, *args, **kwargs)\u001B[0m\n\u001B[1;32m   1516\u001B[0m     \u001B[38;5;28;01mreturn\u001B[39;00m \u001B[38;5;28mself\u001B[39m\u001B[38;5;241m.\u001B[39m_compiled_call_impl(\u001B[38;5;241m*\u001B[39margs, \u001B[38;5;241m*\u001B[39m\u001B[38;5;241m*\u001B[39mkwargs)  \u001B[38;5;66;03m# type: ignore[misc]\u001B[39;00m\n\u001B[1;32m   1517\u001B[0m \u001B[38;5;28;01melse\u001B[39;00m:\n\u001B[0;32m-> 1518\u001B[0m     \u001B[38;5;28;01mreturn\u001B[39;00m \u001B[38;5;28mself\u001B[39m\u001B[38;5;241m.\u001B[39m_call_impl(\u001B[38;5;241m*\u001B[39margs, \u001B[38;5;241m*\u001B[39m\u001B[38;5;241m*\u001B[39mkwargs)\n",
      "File \u001B[0;32m/opt/anaconda3/envs/DeepFakesProject/lib/python3.11/site-packages/torch/nn/modules/module.py:1527\u001B[0m, in \u001B[0;36mModule._call_impl\u001B[0;34m(self, *args, **kwargs)\u001B[0m\n\u001B[1;32m   1522\u001B[0m \u001B[38;5;66;03m# If we don't have any hooks, we want to skip the rest of the logic in\u001B[39;00m\n\u001B[1;32m   1523\u001B[0m \u001B[38;5;66;03m# this function, and just call forward.\u001B[39;00m\n\u001B[1;32m   1524\u001B[0m \u001B[38;5;28;01mif\u001B[39;00m \u001B[38;5;129;01mnot\u001B[39;00m (\u001B[38;5;28mself\u001B[39m\u001B[38;5;241m.\u001B[39m_backward_hooks \u001B[38;5;129;01mor\u001B[39;00m \u001B[38;5;28mself\u001B[39m\u001B[38;5;241m.\u001B[39m_backward_pre_hooks \u001B[38;5;129;01mor\u001B[39;00m \u001B[38;5;28mself\u001B[39m\u001B[38;5;241m.\u001B[39m_forward_hooks \u001B[38;5;129;01mor\u001B[39;00m \u001B[38;5;28mself\u001B[39m\u001B[38;5;241m.\u001B[39m_forward_pre_hooks\n\u001B[1;32m   1525\u001B[0m         \u001B[38;5;129;01mor\u001B[39;00m _global_backward_pre_hooks \u001B[38;5;129;01mor\u001B[39;00m _global_backward_hooks\n\u001B[1;32m   1526\u001B[0m         \u001B[38;5;129;01mor\u001B[39;00m _global_forward_hooks \u001B[38;5;129;01mor\u001B[39;00m _global_forward_pre_hooks):\n\u001B[0;32m-> 1527\u001B[0m     \u001B[38;5;28;01mreturn\u001B[39;00m forward_call(\u001B[38;5;241m*\u001B[39margs, \u001B[38;5;241m*\u001B[39m\u001B[38;5;241m*\u001B[39mkwargs)\n\u001B[1;32m   1529\u001B[0m \u001B[38;5;28;01mtry\u001B[39;00m:\n\u001B[1;32m   1530\u001B[0m     result \u001B[38;5;241m=\u001B[39m \u001B[38;5;28;01mNone\u001B[39;00m\n",
      "File \u001B[0;32m/opt/anaconda3/envs/DeepFakesProject/lib/python3.11/site-packages/torchvision/models/inception.py:363\u001B[0m, in \u001B[0;36mInceptionE.forward\u001B[0;34m(self, x)\u001B[0m\n\u001B[1;32m    362\u001B[0m \u001B[38;5;28;01mdef\u001B[39;00m \u001B[38;5;21mforward\u001B[39m(\u001B[38;5;28mself\u001B[39m, x: Tensor) \u001B[38;5;241m-\u001B[39m\u001B[38;5;241m>\u001B[39m Tensor:\n\u001B[0;32m--> 363\u001B[0m     outputs \u001B[38;5;241m=\u001B[39m \u001B[38;5;28mself\u001B[39m\u001B[38;5;241m.\u001B[39m_forward(x)\n\u001B[1;32m    364\u001B[0m     \u001B[38;5;28;01mreturn\u001B[39;00m torch\u001B[38;5;241m.\u001B[39mcat(outputs, \u001B[38;5;241m1\u001B[39m)\n",
      "File \u001B[0;32m/opt/anaconda3/envs/DeepFakesProject/lib/python3.11/site-packages/torchvision/models/inception.py:349\u001B[0m, in \u001B[0;36mInceptionE._forward\u001B[0;34m(self, x)\u001B[0m\n\u001B[1;32m    346\u001B[0m branch3x3 \u001B[38;5;241m=\u001B[39m torch\u001B[38;5;241m.\u001B[39mcat(branch3x3, \u001B[38;5;241m1\u001B[39m)\n\u001B[1;32m    348\u001B[0m branch3x3dbl \u001B[38;5;241m=\u001B[39m \u001B[38;5;28mself\u001B[39m\u001B[38;5;241m.\u001B[39mbranch3x3dbl_1(x)\n\u001B[0;32m--> 349\u001B[0m branch3x3dbl \u001B[38;5;241m=\u001B[39m \u001B[38;5;28mself\u001B[39m\u001B[38;5;241m.\u001B[39mbranch3x3dbl_2(branch3x3dbl)\n\u001B[1;32m    350\u001B[0m branch3x3dbl \u001B[38;5;241m=\u001B[39m [\n\u001B[1;32m    351\u001B[0m     \u001B[38;5;28mself\u001B[39m\u001B[38;5;241m.\u001B[39mbranch3x3dbl_3a(branch3x3dbl),\n\u001B[1;32m    352\u001B[0m     \u001B[38;5;28mself\u001B[39m\u001B[38;5;241m.\u001B[39mbranch3x3dbl_3b(branch3x3dbl),\n\u001B[1;32m    353\u001B[0m ]\n\u001B[1;32m    354\u001B[0m branch3x3dbl \u001B[38;5;241m=\u001B[39m torch\u001B[38;5;241m.\u001B[39mcat(branch3x3dbl, \u001B[38;5;241m1\u001B[39m)\n",
      "File \u001B[0;32m/opt/anaconda3/envs/DeepFakesProject/lib/python3.11/site-packages/torch/nn/modules/module.py:1518\u001B[0m, in \u001B[0;36mModule._wrapped_call_impl\u001B[0;34m(self, *args, **kwargs)\u001B[0m\n\u001B[1;32m   1516\u001B[0m     \u001B[38;5;28;01mreturn\u001B[39;00m \u001B[38;5;28mself\u001B[39m\u001B[38;5;241m.\u001B[39m_compiled_call_impl(\u001B[38;5;241m*\u001B[39margs, \u001B[38;5;241m*\u001B[39m\u001B[38;5;241m*\u001B[39mkwargs)  \u001B[38;5;66;03m# type: ignore[misc]\u001B[39;00m\n\u001B[1;32m   1517\u001B[0m \u001B[38;5;28;01melse\u001B[39;00m:\n\u001B[0;32m-> 1518\u001B[0m     \u001B[38;5;28;01mreturn\u001B[39;00m \u001B[38;5;28mself\u001B[39m\u001B[38;5;241m.\u001B[39m_call_impl(\u001B[38;5;241m*\u001B[39margs, \u001B[38;5;241m*\u001B[39m\u001B[38;5;241m*\u001B[39mkwargs)\n",
      "File \u001B[0;32m/opt/anaconda3/envs/DeepFakesProject/lib/python3.11/site-packages/torch/nn/modules/module.py:1527\u001B[0m, in \u001B[0;36mModule._call_impl\u001B[0;34m(self, *args, **kwargs)\u001B[0m\n\u001B[1;32m   1522\u001B[0m \u001B[38;5;66;03m# If we don't have any hooks, we want to skip the rest of the logic in\u001B[39;00m\n\u001B[1;32m   1523\u001B[0m \u001B[38;5;66;03m# this function, and just call forward.\u001B[39;00m\n\u001B[1;32m   1524\u001B[0m \u001B[38;5;28;01mif\u001B[39;00m \u001B[38;5;129;01mnot\u001B[39;00m (\u001B[38;5;28mself\u001B[39m\u001B[38;5;241m.\u001B[39m_backward_hooks \u001B[38;5;129;01mor\u001B[39;00m \u001B[38;5;28mself\u001B[39m\u001B[38;5;241m.\u001B[39m_backward_pre_hooks \u001B[38;5;129;01mor\u001B[39;00m \u001B[38;5;28mself\u001B[39m\u001B[38;5;241m.\u001B[39m_forward_hooks \u001B[38;5;129;01mor\u001B[39;00m \u001B[38;5;28mself\u001B[39m\u001B[38;5;241m.\u001B[39m_forward_pre_hooks\n\u001B[1;32m   1525\u001B[0m         \u001B[38;5;129;01mor\u001B[39;00m _global_backward_pre_hooks \u001B[38;5;129;01mor\u001B[39;00m _global_backward_hooks\n\u001B[1;32m   1526\u001B[0m         \u001B[38;5;129;01mor\u001B[39;00m _global_forward_hooks \u001B[38;5;129;01mor\u001B[39;00m _global_forward_pre_hooks):\n\u001B[0;32m-> 1527\u001B[0m     \u001B[38;5;28;01mreturn\u001B[39;00m forward_call(\u001B[38;5;241m*\u001B[39margs, \u001B[38;5;241m*\u001B[39m\u001B[38;5;241m*\u001B[39mkwargs)\n\u001B[1;32m   1529\u001B[0m \u001B[38;5;28;01mtry\u001B[39;00m:\n\u001B[1;32m   1530\u001B[0m     result \u001B[38;5;241m=\u001B[39m \u001B[38;5;28;01mNone\u001B[39;00m\n",
      "File \u001B[0;32m/opt/anaconda3/envs/DeepFakesProject/lib/python3.11/site-packages/torchvision/models/inception.py:405\u001B[0m, in \u001B[0;36mBasicConv2d.forward\u001B[0;34m(self, x)\u001B[0m\n\u001B[1;32m    404\u001B[0m \u001B[38;5;28;01mdef\u001B[39;00m \u001B[38;5;21mforward\u001B[39m(\u001B[38;5;28mself\u001B[39m, x: Tensor) \u001B[38;5;241m-\u001B[39m\u001B[38;5;241m>\u001B[39m Tensor:\n\u001B[0;32m--> 405\u001B[0m     x \u001B[38;5;241m=\u001B[39m \u001B[38;5;28mself\u001B[39m\u001B[38;5;241m.\u001B[39mconv(x)\n\u001B[1;32m    406\u001B[0m     x \u001B[38;5;241m=\u001B[39m \u001B[38;5;28mself\u001B[39m\u001B[38;5;241m.\u001B[39mbn(x)\n\u001B[1;32m    407\u001B[0m     \u001B[38;5;28;01mreturn\u001B[39;00m F\u001B[38;5;241m.\u001B[39mrelu(x, inplace\u001B[38;5;241m=\u001B[39m\u001B[38;5;28;01mTrue\u001B[39;00m)\n",
      "File \u001B[0;32m/opt/anaconda3/envs/DeepFakesProject/lib/python3.11/site-packages/torch/nn/modules/module.py:1518\u001B[0m, in \u001B[0;36mModule._wrapped_call_impl\u001B[0;34m(self, *args, **kwargs)\u001B[0m\n\u001B[1;32m   1516\u001B[0m     \u001B[38;5;28;01mreturn\u001B[39;00m \u001B[38;5;28mself\u001B[39m\u001B[38;5;241m.\u001B[39m_compiled_call_impl(\u001B[38;5;241m*\u001B[39margs, \u001B[38;5;241m*\u001B[39m\u001B[38;5;241m*\u001B[39mkwargs)  \u001B[38;5;66;03m# type: ignore[misc]\u001B[39;00m\n\u001B[1;32m   1517\u001B[0m \u001B[38;5;28;01melse\u001B[39;00m:\n\u001B[0;32m-> 1518\u001B[0m     \u001B[38;5;28;01mreturn\u001B[39;00m \u001B[38;5;28mself\u001B[39m\u001B[38;5;241m.\u001B[39m_call_impl(\u001B[38;5;241m*\u001B[39margs, \u001B[38;5;241m*\u001B[39m\u001B[38;5;241m*\u001B[39mkwargs)\n",
      "File \u001B[0;32m/opt/anaconda3/envs/DeepFakesProject/lib/python3.11/site-packages/torch/nn/modules/module.py:1527\u001B[0m, in \u001B[0;36mModule._call_impl\u001B[0;34m(self, *args, **kwargs)\u001B[0m\n\u001B[1;32m   1522\u001B[0m \u001B[38;5;66;03m# If we don't have any hooks, we want to skip the rest of the logic in\u001B[39;00m\n\u001B[1;32m   1523\u001B[0m \u001B[38;5;66;03m# this function, and just call forward.\u001B[39;00m\n\u001B[1;32m   1524\u001B[0m \u001B[38;5;28;01mif\u001B[39;00m \u001B[38;5;129;01mnot\u001B[39;00m (\u001B[38;5;28mself\u001B[39m\u001B[38;5;241m.\u001B[39m_backward_hooks \u001B[38;5;129;01mor\u001B[39;00m \u001B[38;5;28mself\u001B[39m\u001B[38;5;241m.\u001B[39m_backward_pre_hooks \u001B[38;5;129;01mor\u001B[39;00m \u001B[38;5;28mself\u001B[39m\u001B[38;5;241m.\u001B[39m_forward_hooks \u001B[38;5;129;01mor\u001B[39;00m \u001B[38;5;28mself\u001B[39m\u001B[38;5;241m.\u001B[39m_forward_pre_hooks\n\u001B[1;32m   1525\u001B[0m         \u001B[38;5;129;01mor\u001B[39;00m _global_backward_pre_hooks \u001B[38;5;129;01mor\u001B[39;00m _global_backward_hooks\n\u001B[1;32m   1526\u001B[0m         \u001B[38;5;129;01mor\u001B[39;00m _global_forward_hooks \u001B[38;5;129;01mor\u001B[39;00m _global_forward_pre_hooks):\n\u001B[0;32m-> 1527\u001B[0m     \u001B[38;5;28;01mreturn\u001B[39;00m forward_call(\u001B[38;5;241m*\u001B[39margs, \u001B[38;5;241m*\u001B[39m\u001B[38;5;241m*\u001B[39mkwargs)\n\u001B[1;32m   1529\u001B[0m \u001B[38;5;28;01mtry\u001B[39;00m:\n\u001B[1;32m   1530\u001B[0m     result \u001B[38;5;241m=\u001B[39m \u001B[38;5;28;01mNone\u001B[39;00m\n",
      "File \u001B[0;32m/opt/anaconda3/envs/DeepFakesProject/lib/python3.11/site-packages/torch/nn/modules/conv.py:460\u001B[0m, in \u001B[0;36mConv2d.forward\u001B[0;34m(self, input)\u001B[0m\n\u001B[1;32m    459\u001B[0m \u001B[38;5;28;01mdef\u001B[39;00m \u001B[38;5;21mforward\u001B[39m(\u001B[38;5;28mself\u001B[39m, \u001B[38;5;28minput\u001B[39m: Tensor) \u001B[38;5;241m-\u001B[39m\u001B[38;5;241m>\u001B[39m Tensor:\n\u001B[0;32m--> 460\u001B[0m     \u001B[38;5;28;01mreturn\u001B[39;00m \u001B[38;5;28mself\u001B[39m\u001B[38;5;241m.\u001B[39m_conv_forward(\u001B[38;5;28minput\u001B[39m, \u001B[38;5;28mself\u001B[39m\u001B[38;5;241m.\u001B[39mweight, \u001B[38;5;28mself\u001B[39m\u001B[38;5;241m.\u001B[39mbias)\n",
      "File \u001B[0;32m/opt/anaconda3/envs/DeepFakesProject/lib/python3.11/site-packages/torch/nn/modules/conv.py:456\u001B[0m, in \u001B[0;36mConv2d._conv_forward\u001B[0;34m(self, input, weight, bias)\u001B[0m\n\u001B[1;32m    452\u001B[0m \u001B[38;5;28;01mif\u001B[39;00m \u001B[38;5;28mself\u001B[39m\u001B[38;5;241m.\u001B[39mpadding_mode \u001B[38;5;241m!=\u001B[39m \u001B[38;5;124m'\u001B[39m\u001B[38;5;124mzeros\u001B[39m\u001B[38;5;124m'\u001B[39m:\n\u001B[1;32m    453\u001B[0m     \u001B[38;5;28;01mreturn\u001B[39;00m F\u001B[38;5;241m.\u001B[39mconv2d(F\u001B[38;5;241m.\u001B[39mpad(\u001B[38;5;28minput\u001B[39m, \u001B[38;5;28mself\u001B[39m\u001B[38;5;241m.\u001B[39m_reversed_padding_repeated_twice, mode\u001B[38;5;241m=\u001B[39m\u001B[38;5;28mself\u001B[39m\u001B[38;5;241m.\u001B[39mpadding_mode),\n\u001B[1;32m    454\u001B[0m                     weight, bias, \u001B[38;5;28mself\u001B[39m\u001B[38;5;241m.\u001B[39mstride,\n\u001B[1;32m    455\u001B[0m                     _pair(\u001B[38;5;241m0\u001B[39m), \u001B[38;5;28mself\u001B[39m\u001B[38;5;241m.\u001B[39mdilation, \u001B[38;5;28mself\u001B[39m\u001B[38;5;241m.\u001B[39mgroups)\n\u001B[0;32m--> 456\u001B[0m \u001B[38;5;28;01mreturn\u001B[39;00m F\u001B[38;5;241m.\u001B[39mconv2d(\u001B[38;5;28minput\u001B[39m, weight, bias, \u001B[38;5;28mself\u001B[39m\u001B[38;5;241m.\u001B[39mstride,\n\u001B[1;32m    457\u001B[0m                 \u001B[38;5;28mself\u001B[39m\u001B[38;5;241m.\u001B[39mpadding, \u001B[38;5;28mself\u001B[39m\u001B[38;5;241m.\u001B[39mdilation, \u001B[38;5;28mself\u001B[39m\u001B[38;5;241m.\u001B[39mgroups)\n",
      "\u001B[0;31mKeyboardInterrupt\u001B[0m: "
     ]
    },
    {
     "data": {
      "text/plain": "<Figure size 1000x700 with 1 Axes>",
      "image/png": "[encoded data removed]"
     },
     "metadata": {},
     "output_type": "display_data"
    }
   ],
   "source": [
    "googleNet.aux_logits = False\n",
    "googleNet, acc = train_model(googleNet, loss_fn2, optimizer2, exp_lr_scheduler, num_epochs = 25) "
   ],
   "metadata": {
    "collapsed": false,
    "ExecuteTime": {
     "end_time": "2024-01-01T20:56:01.312735Z",
     "start_time": "2024-01-01T20:55:11.084098Z"
    }
   },
   "id": "616a479f8b2f8ec6"
  },
  {
   "cell_type": "code",
   "execution_count": 136,
   "outputs": [
    {
     "name": "stdout",
     "output_type": "stream",
     "text": [
      "[2, 99] [100, 100]\n",
      "0.505\n"
     ]
    }
   ],
   "source": [
    "best_model = models.resnet18(pretrained = True)\n",
    "for param in best_model.parameters():\n",
    "    param.requires_grad = False\n",
    "\n",
    "for param in best_model.layer4.parameters():\n",
    "    param.requires_grad = True\n",
    "\n",
    "for param in best_model.layer3.parameters():\n",
    "    param.requires_grad = True\n",
    "    \n",
    "best_model.fc = nn.Sequential(\n",
    "    nn.Linear(512, 1),\n",
    "    nn.Sigmoid()\n",
    ")\n",
    "\n",
    "best_model = best_model.to(device)\n",
    "best_model.load_state_dict(torch.load('/Users/danielbelikov/DataspellProjects/DeepFakesProject/resnet_73_on50epoch_two_last_layer_SGD(0.001, 09)_gamma 1, batch_size = 16 Imagenet.pth', map_location=torch.device('mps')))\n",
    "best_model.eval()\n",
    "\n",
    "\n",
    "# loss_fn = torch.nn.BCEWithLogitsLoss()\n",
    "# best_optimizer = optim.SGD(params=best_model.parameters(), lr=0.001, momentum=0.9)\n",
    "# exp_lr_scheduler = lr_scheduler.StepLR(best_optimizer, step_size=10, gamma=0.1)\n",
    "\n",
    "class_correct = [0,0]\n",
    "class_total = [0,0]\n",
    "classes = ['Real', 'Fake']\n",
    "\n",
    "with torch.no_grad():\n",
    "    for data in testloader:\n",
    "        images, labels = data\n",
    "        images = images.to(device)\n",
    "        \n",
    "        if len(labels) == 2:\n",
    "            continue\n",
    "        y_pred = best_model(images)\n",
    "        \n",
    "\n",
    "        predicted = torch.squeeze(torch.round(y_pred))\n",
    "        # print(predicted)\n",
    "        # print(labels)\n",
    "        c = predicted.cpu().detach() == labels\n",
    "        \n",
    "        \n",
    "        #print(labels)\n",
    "        for i in range(len(labels)):\n",
    "            \n",
    "            label = labels[i]\n",
    "            class_correct[label] += c[i].item()\n",
    "            class_total[label] += 1\n",
    "\n",
    "print(class_correct, class_total)\n",
    "print(sum(class_correct) / sum(class_total)) "
   ],
   "metadata": {
    "collapsed": false,
    "ExecuteTime": {
     "end_time": "2024-01-01T21:31:18.227210Z",
     "start_time": "2024-01-01T21:31:14.341800Z"
    }
   },
   "id": "8c8d9415208e1c19"
  },
  {
   "cell_type": "code",
   "execution_count": 94,
   "outputs": [],
   "source": [],
   "metadata": {
    "collapsed": false,
    "ExecuteTime": {
     "end_time": "2024-01-01T20:37:48.922645Z",
     "start_time": "2024-01-01T20:37:48.906702Z"
    }
   },
   "id": "162fd964b7b0b7f2"
  },
  {
   "cell_type": "code",
   "execution_count": null,
   "outputs": [],
   "source": [],
   "metadata": {
    "collapsed": false
   },
   "id": "417668f9eecdcf3b"
  }
 ],
 "metadata": {
  "kernelspec": {
   "display_name": "Python 3",
   "language": "python",
   "name": "python3"
  },
  "language_info": {
   "codemirror_mode": {
    "name": "ipython",
    "version": 2
   },
   "file_extension": ".py",
   "mimetype": "text/x-python",
   "name": "python",
   "nbconvert_exporter": "python",
   "pygments_lexer": "ipython2",
   "version": "2.7.6"
  }
 },
 "nbformat": 4,
 "nbformat_minor": 5
}
